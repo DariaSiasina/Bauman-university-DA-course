{
  "nbformat": 4,
  "nbformat_minor": 0,
  "metadata": {
    "colab": {
      "provenance": [],
      "collapsed_sections": [
        "Ce_mgTaYYMex",
        "I9nuaJhV_A03",
        "BX6ztvAsFdvH",
        "NerO52ABFgKc",
        "pSJmQkhu23Rs",
        "xjXFg9G37Bof",
        "N5p0DfqO76FQ",
        "Hf-tiRSQ8QSc",
        "pkg7X7o58okb",
        "wdiILrHZ6cT9",
        "Szsc1q3p9BjR",
        "OFGVDmYq7Azd"
      ]
    },
    "kernelspec": {
      "name": "python3",
      "display_name": "Python 3"
    },
    "language_info": {
      "name": "python"
    }
  },
  "cells": [
    {
      "cell_type": "markdown",
      "source": [
        "#Итоговое задание. Аналитика_данных/Data_scientist\n"
      ],
      "metadata": {
        "id": "twxA4pyRsGJM"
      }
    },
    {
      "cell_type": "markdown",
      "source": [
        "##Кейс «Прогнозирование размеров сварного шва при электронно-лучевой сварке тонкостенных конструкций аэрокосмического назначения»"
      ],
      "metadata": {
        "id": "gXXtlkF6w2UV"
      }
    },
    {
      "cell_type": "markdown",
      "source": [
        "###Исполнитель: Сясина Дарья\n"
      ],
      "metadata": {
        "id": "NnPqk6ZLsSli"
      }
    },
    {
      "cell_type": "markdown",
      "source": [
        "**Исходные данные** - результаты экспериментальных исследований, проводимых в целях улучшения технологического процесса электронно-лучевой сварки изделия, сборка которого состоит из элементов, состоящих из разнородного материала. Установка электронно-лучевой сварки, на которой проводились исследования, предназначена для сварки электронным лучом в глубоком вакууме деталей сборочных единиц из нержавеющих сталей, титановых, алюминиевых и специальных сплавов. Существующая установка электронно-лучевой сварки обеспечивает повторяемость режимов в рамках возможностей реализованной системы управления. Работы по сварке выполнялись на образцах-имитаторах, соответствующих технологическому изделию.\n",
        "\n",
        "Для уменьшения вложения энергии при сварке:\n",
        "1.\tСнижалась **величина сварочного тока (IW)**;\n",
        "2.\tУвеличивался **ток фокусировки электронного пучка (IF)**;\n",
        "3.\tУвеличивалась **скорость сварки (VW)**;\n",
        "4.\tМенялось **расстояние от поверхности образцов до электронно-оптической системы (FP)**.\n",
        "\n",
        "По совокупности параметров технологических режимов обеспечивались минимально возможные размеры сварных швов: **глубина шва (Depth)** и ширина шва (Width).\n",
        "\n",
        "В процессе выполнения работ была произведена электронно-лучевая сварка 18-ти единиц образцов. Результаты металлографического контроля по размерам сварного шва для каждого образца проводились в 4-х поперечных сечениях сварного шва. Ускоряющее напряжение было постоянным в диапазоне 19,8 – 20 кВ. Набор полученных данных собраны в составе режимов сварки, размеров сварочных швов в поперечных сечениях всех образцов.\n"
      ],
      "metadata": {
        "id": "VCF7ZeEtsnnd"
      }
    },
    {
      "cell_type": "markdown",
      "source": [
        "**Цель проекта:**\n",
        "- провести прогнозирование глубины (Depth) и ширины (Width) сварного шва в зависимости от параметров технологического процесса (IW, IF, VW, FP)."
      ],
      "metadata": {
        "id": "76tEeEVisnqR"
      }
    },
    {
      "cell_type": "markdown",
      "source": [
        "**Задачи проекта:**\n",
        "\n",
        "- изучить данные, провести их предварительную обработку\n",
        "- провести исследовательский анализ данных (EDA)\n",
        "- применить не менее 3-х алгоритмов машинного обучения (включая  использование искусственных нейронных сетей), позволяющих решить поставленную задачу анализа данных, выбрать лучшую модель и применить ее в приложении\n",
        "- создать локальный репозиторий git\n",
        "- реализовать приложение (консольное, оконное или веб-приложение)\n",
        "- выгрузить коммиты приложения из локального репозитория на github.com"
      ],
      "metadata": {
        "id": "TcgPt2cws0yg"
      }
    },
    {
      "cell_type": "markdown",
      "source": [
        "##**1. Изучение и предварительная обработка данных**"
      ],
      "metadata": {
        "id": "epLIyx2ns01X"
      }
    },
    {
      "cell_type": "code",
      "execution_count": 63,
      "metadata": {
        "id": "OqqGmtaemBsQ",
        "colab": {
          "base_uri": "https://localhost:8080/"
        },
        "outputId": "c15af53c-b064-4512-8d22-82863eb1836f"
      },
      "outputs": [
        {
          "output_type": "stream",
          "name": "stdout",
          "text": [
            "2.9.2\n"
          ]
        }
      ],
      "source": [
        "# Импортируем нужные библиотеки\n",
        "import numpy as np\n",
        "import pandas as pd\n",
        "import matplotlib.pyplot as plt\n",
        "import seaborn as sns\n",
        "\n",
        "from sklearn.model_selection import train_test_split\n",
        "from sklearn.preprocessing import StandardScaler\n",
        "from sklearn.metrics import mean_squared_error\n",
        "from sklearn.metrics import mean_absolute_error\n",
        "\n",
        "from sklearn.linear_model import LinearRegression, RidgeCV\n",
        "from sklearn.model_selection import GridSearchCV\n",
        "from sklearn.ensemble import RandomForestRegressor, GradientBoostingRegressor\n",
        "from sklearn.svm import SVR\n",
        "from sklearn.neighbors import KNeighborsRegressor\n",
        "from sklearn.neural_network import MLPRegressor \n",
        "\n",
        "import tensorflow as tf\n",
        "from tensorflow import keras\n",
        "from keras import utils\n",
        "from keras import layers\n",
        "from keras.layers import Dense\n",
        "from keras.models import Sequential\n",
        "from keras.optimizers import Adam\n",
        "print(tf.__version__)\n",
        "from tensorflow.keras.models import Model\n",
        "from tensorflow.keras.models import load_model\n",
        "import pickle"
      ]
    },
    {
      "cell_type": "code",
      "source": [
        "!pip install scikit-learn==0.22.1"
      ],
      "metadata": {
        "colab": {
          "base_uri": "https://localhost:8080/",
          "height": 402
        },
        "id": "HUUewIo5HO8H",
        "outputId": "587bd6fc-e2da-483c-b00b-8c4edafa9c49"
      },
      "execution_count": 2,
      "outputs": [
        {
          "output_type": "stream",
          "name": "stdout",
          "text": [
            "Looking in indexes: https://pypi.org/simple, https://us-python.pkg.dev/colab-wheels/public/simple/\n",
            "Collecting scikit-learn==0.22.1\n",
            "  Downloading scikit_learn-0.22.1-cp37-cp37m-manylinux1_x86_64.whl (7.0 MB)\n",
            "\u001b[K     |████████████████████████████████| 7.0 MB 8.9 MB/s \n",
            "\u001b[?25hRequirement already satisfied: numpy>=1.11.0 in /usr/local/lib/python3.7/dist-packages (from scikit-learn==0.22.1) (1.21.6)\n",
            "Requirement already satisfied: scipy>=0.17.0 in /usr/local/lib/python3.7/dist-packages (from scikit-learn==0.22.1) (1.7.3)\n",
            "Requirement already satisfied: joblib>=0.11 in /usr/local/lib/python3.7/dist-packages (from scikit-learn==0.22.1) (1.2.0)\n",
            "Installing collected packages: scikit-learn\n",
            "  Attempting uninstall: scikit-learn\n",
            "    Found existing installation: scikit-learn 1.0.2\n",
            "    Uninstalling scikit-learn-1.0.2:\n",
            "      Successfully uninstalled scikit-learn-1.0.2\n",
            "\u001b[31mERROR: pip's dependency resolver does not currently take into account all the packages that are installed. This behaviour is the source of the following dependency conflicts.\n",
            "yellowbrick 1.5 requires scikit-learn>=1.0.0, but you have scikit-learn 0.22.1 which is incompatible.\n",
            "imbalanced-learn 0.8.1 requires scikit-learn>=0.24, but you have scikit-learn 0.22.1 which is incompatible.\u001b[0m\n",
            "Successfully installed scikit-learn-0.22.1\n"
          ]
        },
        {
          "output_type": "display_data",
          "data": {
            "application/vnd.colab-display-data+json": {
              "pip_warning": {
                "packages": [
                  "sklearn"
                ]
              }
            }
          },
          "metadata": {}
        }
      ]
    },
    {
      "cell_type": "code",
      "source": [
        "import pickle\n",
        "!pip install sklearn_porter"
      ],
      "metadata": {
        "colab": {
          "base_uri": "https://localhost:8080/"
        },
        "id": "o-9IbOuLDmE9",
        "outputId": "2dfb9a0b-0257-4f1c-9555-4d9aa088985c"
      },
      "execution_count": 3,
      "outputs": [
        {
          "output_type": "stream",
          "name": "stdout",
          "text": [
            "Looking in indexes: https://pypi.org/simple, https://us-python.pkg.dev/colab-wheels/public/simple/\n",
            "Collecting sklearn_porter\n",
            "  Downloading sklearn_porter-0.7.4-py3-none-any.whl (144 kB)\n",
            "\u001b[?25l\r\u001b[K     |██▎                             | 10 kB 30.8 MB/s eta 0:00:01\r\u001b[K     |████▌                           | 20 kB 35.4 MB/s eta 0:00:01\r\u001b[K     |██████▉                         | 30 kB 42.3 MB/s eta 0:00:01\r\u001b[K     |█████████                       | 40 kB 31.8 MB/s eta 0:00:01\r\u001b[K     |███████████▍                    | 51 kB 35.2 MB/s eta 0:00:01\r\u001b[K     |█████████████▋                  | 61 kB 39.2 MB/s eta 0:00:01\r\u001b[K     |███████████████▉                | 71 kB 27.7 MB/s eta 0:00:01\r\u001b[K     |██████████████████▏             | 81 kB 29.0 MB/s eta 0:00:01\r\u001b[K     |████████████████████▍           | 92 kB 30.9 MB/s eta 0:00:01\r\u001b[K     |██████████████████████▊         | 102 kB 31.2 MB/s eta 0:00:01\r\u001b[K     |█████████████████████████       | 112 kB 31.2 MB/s eta 0:00:01\r\u001b[K     |███████████████████████████▎    | 122 kB 31.2 MB/s eta 0:00:01\r\u001b[K     |█████████████████████████████▌  | 133 kB 31.2 MB/s eta 0:00:01\r\u001b[K     |███████████████████████████████▊| 143 kB 31.2 MB/s eta 0:00:01\r\u001b[K     |████████████████████████████████| 144 kB 31.2 MB/s \n",
            "\u001b[?25hRequirement already satisfied: six in /usr/local/lib/python3.7/dist-packages (from sklearn_porter) (1.15.0)\n",
            "Requirement already satisfied: scikit-learn>=0.14.1 in /usr/local/lib/python3.7/dist-packages (from sklearn_porter) (0.22.1)\n",
            "Requirement already satisfied: numpy>=1.11.0 in /usr/local/lib/python3.7/dist-packages (from scikit-learn>=0.14.1->sklearn_porter) (1.21.6)\n",
            "Requirement already satisfied: joblib>=0.11 in /usr/local/lib/python3.7/dist-packages (from scikit-learn>=0.14.1->sklearn_porter) (1.2.0)\n",
            "Requirement already satisfied: scipy>=0.17.0 in /usr/local/lib/python3.7/dist-packages (from scikit-learn>=0.14.1->sklearn_porter) (1.7.3)\n",
            "Installing collected packages: sklearn-porter\n",
            "Successfully installed sklearn-porter-0.7.4\n"
          ]
        }
      ]
    },
    {
      "cell_type": "code",
      "source": [
        "df = pd.read_csv('/content/ebw_data.csv')"
      ],
      "metadata": {
        "id": "VAeSsbkFmP79"
      },
      "execution_count": 4,
      "outputs": []
    },
    {
      "cell_type": "markdown",
      "source": [
        "Рассмотрим и изучим имеющиеся данные:\n",
        "- величина сварочного тока (IW)\n",
        "- ток фокусировки электронного пучка (IF)\n",
        "- скорость сварки (VW)\n",
        "- расстояние от поверхности образцов до электронно-оптической системы (FP)\n",
        "- глубина шва (Depth)\n",
        "- ширина шва (Width)"
      ],
      "metadata": {
        "id": "0CrhVRONs04e"
      }
    },
    {
      "cell_type": "code",
      "source": [
        "df.info()"
      ],
      "metadata": {
        "colab": {
          "base_uri": "https://localhost:8080/"
        },
        "id": "Vxni7ikRmS0J",
        "outputId": "967c6c88-ec4e-4278-ac25-27fd726c5864"
      },
      "execution_count": 5,
      "outputs": [
        {
          "output_type": "stream",
          "name": "stdout",
          "text": [
            "<class 'pandas.core.frame.DataFrame'>\n",
            "RangeIndex: 72 entries, 0 to 71\n",
            "Data columns (total 6 columns):\n",
            " #   Column  Non-Null Count  Dtype  \n",
            "---  ------  --------------  -----  \n",
            " 0   IW      72 non-null     int64  \n",
            " 1   IF      72 non-null     int64  \n",
            " 2   VW      72 non-null     float64\n",
            " 3   FP      72 non-null     int64  \n",
            " 4   Depth   72 non-null     float64\n",
            " 5   Width   72 non-null     float64\n",
            "dtypes: float64(3), int64(3)\n",
            "memory usage: 3.5 KB\n"
          ]
        }
      ]
    },
    {
      "cell_type": "code",
      "source": [
        "df.head()"
      ],
      "metadata": {
        "colab": {
          "base_uri": "https://localhost:8080/",
          "height": 206
        },
        "id": "U2Y81uxomToc",
        "outputId": "612f1834-0d62-4a00-9432-fee211ab5ed4"
      },
      "execution_count": 6,
      "outputs": [
        {
          "output_type": "execute_result",
          "data": {
            "text/plain": [
              "   IW   IF   VW  FP  Depth  Width\n",
              "0  47  139  4.5  80   1.60   2.54\n",
              "1  47  139  4.5  80   1.62   2.50\n",
              "2  47  139  4.5  80   1.68   2.60\n",
              "3  47  139  4.5  80   1.58   2.52\n",
              "4  45  140  4.5  80   1.76   2.48"
            ],
            "text/html": [
              "\n",
              "  <div id=\"df-ddbd983c-7e4a-4063-872a-33a49dd4b3c8\">\n",
              "    <div class=\"colab-df-container\">\n",
              "      <div>\n",
              "<style scoped>\n",
              "    .dataframe tbody tr th:only-of-type {\n",
              "        vertical-align: middle;\n",
              "    }\n",
              "\n",
              "    .dataframe tbody tr th {\n",
              "        vertical-align: top;\n",
              "    }\n",
              "\n",
              "    .dataframe thead th {\n",
              "        text-align: right;\n",
              "    }\n",
              "</style>\n",
              "<table border=\"1\" class=\"dataframe\">\n",
              "  <thead>\n",
              "    <tr style=\"text-align: right;\">\n",
              "      <th></th>\n",
              "      <th>IW</th>\n",
              "      <th>IF</th>\n",
              "      <th>VW</th>\n",
              "      <th>FP</th>\n",
              "      <th>Depth</th>\n",
              "      <th>Width</th>\n",
              "    </tr>\n",
              "  </thead>\n",
              "  <tbody>\n",
              "    <tr>\n",
              "      <th>0</th>\n",
              "      <td>47</td>\n",
              "      <td>139</td>\n",
              "      <td>4.5</td>\n",
              "      <td>80</td>\n",
              "      <td>1.60</td>\n",
              "      <td>2.54</td>\n",
              "    </tr>\n",
              "    <tr>\n",
              "      <th>1</th>\n",
              "      <td>47</td>\n",
              "      <td>139</td>\n",
              "      <td>4.5</td>\n",
              "      <td>80</td>\n",
              "      <td>1.62</td>\n",
              "      <td>2.50</td>\n",
              "    </tr>\n",
              "    <tr>\n",
              "      <th>2</th>\n",
              "      <td>47</td>\n",
              "      <td>139</td>\n",
              "      <td>4.5</td>\n",
              "      <td>80</td>\n",
              "      <td>1.68</td>\n",
              "      <td>2.60</td>\n",
              "    </tr>\n",
              "    <tr>\n",
              "      <th>3</th>\n",
              "      <td>47</td>\n",
              "      <td>139</td>\n",
              "      <td>4.5</td>\n",
              "      <td>80</td>\n",
              "      <td>1.58</td>\n",
              "      <td>2.52</td>\n",
              "    </tr>\n",
              "    <tr>\n",
              "      <th>4</th>\n",
              "      <td>45</td>\n",
              "      <td>140</td>\n",
              "      <td>4.5</td>\n",
              "      <td>80</td>\n",
              "      <td>1.76</td>\n",
              "      <td>2.48</td>\n",
              "    </tr>\n",
              "  </tbody>\n",
              "</table>\n",
              "</div>\n",
              "      <button class=\"colab-df-convert\" onclick=\"convertToInteractive('df-ddbd983c-7e4a-4063-872a-33a49dd4b3c8')\"\n",
              "              title=\"Convert this dataframe to an interactive table.\"\n",
              "              style=\"display:none;\">\n",
              "        \n",
              "  <svg xmlns=\"http://www.w3.org/2000/svg\" height=\"24px\"viewBox=\"0 0 24 24\"\n",
              "       width=\"24px\">\n",
              "    <path d=\"M0 0h24v24H0V0z\" fill=\"none\"/>\n",
              "    <path d=\"M18.56 5.44l.94 2.06.94-2.06 2.06-.94-2.06-.94-.94-2.06-.94 2.06-2.06.94zm-11 1L8.5 8.5l.94-2.06 2.06-.94-2.06-.94L8.5 2.5l-.94 2.06-2.06.94zm10 10l.94 2.06.94-2.06 2.06-.94-2.06-.94-.94-2.06-.94 2.06-2.06.94z\"/><path d=\"M17.41 7.96l-1.37-1.37c-.4-.4-.92-.59-1.43-.59-.52 0-1.04.2-1.43.59L10.3 9.45l-7.72 7.72c-.78.78-.78 2.05 0 2.83L4 21.41c.39.39.9.59 1.41.59.51 0 1.02-.2 1.41-.59l7.78-7.78 2.81-2.81c.8-.78.8-2.07 0-2.86zM5.41 20L4 18.59l7.72-7.72 1.47 1.35L5.41 20z\"/>\n",
              "  </svg>\n",
              "      </button>\n",
              "      \n",
              "  <style>\n",
              "    .colab-df-container {\n",
              "      display:flex;\n",
              "      flex-wrap:wrap;\n",
              "      gap: 12px;\n",
              "    }\n",
              "\n",
              "    .colab-df-convert {\n",
              "      background-color: #E8F0FE;\n",
              "      border: none;\n",
              "      border-radius: 50%;\n",
              "      cursor: pointer;\n",
              "      display: none;\n",
              "      fill: #1967D2;\n",
              "      height: 32px;\n",
              "      padding: 0 0 0 0;\n",
              "      width: 32px;\n",
              "    }\n",
              "\n",
              "    .colab-df-convert:hover {\n",
              "      background-color: #E2EBFA;\n",
              "      box-shadow: 0px 1px 2px rgba(60, 64, 67, 0.3), 0px 1px 3px 1px rgba(60, 64, 67, 0.15);\n",
              "      fill: #174EA6;\n",
              "    }\n",
              "\n",
              "    [theme=dark] .colab-df-convert {\n",
              "      background-color: #3B4455;\n",
              "      fill: #D2E3FC;\n",
              "    }\n",
              "\n",
              "    [theme=dark] .colab-df-convert:hover {\n",
              "      background-color: #434B5C;\n",
              "      box-shadow: 0px 1px 3px 1px rgba(0, 0, 0, 0.15);\n",
              "      filter: drop-shadow(0px 1px 2px rgba(0, 0, 0, 0.3));\n",
              "      fill: #FFFFFF;\n",
              "    }\n",
              "  </style>\n",
              "\n",
              "      <script>\n",
              "        const buttonEl =\n",
              "          document.querySelector('#df-ddbd983c-7e4a-4063-872a-33a49dd4b3c8 button.colab-df-convert');\n",
              "        buttonEl.style.display =\n",
              "          google.colab.kernel.accessAllowed ? 'block' : 'none';\n",
              "\n",
              "        async function convertToInteractive(key) {\n",
              "          const element = document.querySelector('#df-ddbd983c-7e4a-4063-872a-33a49dd4b3c8');\n",
              "          const dataTable =\n",
              "            await google.colab.kernel.invokeFunction('convertToInteractive',\n",
              "                                                     [key], {});\n",
              "          if (!dataTable) return;\n",
              "\n",
              "          const docLinkHtml = 'Like what you see? Visit the ' +\n",
              "            '<a target=\"_blank\" href=https://colab.research.google.com/notebooks/data_table.ipynb>data table notebook</a>'\n",
              "            + ' to learn more about interactive tables.';\n",
              "          element.innerHTML = '';\n",
              "          dataTable['output_type'] = 'display_data';\n",
              "          await google.colab.output.renderOutput(dataTable, element);\n",
              "          const docLink = document.createElement('div');\n",
              "          docLink.innerHTML = docLinkHtml;\n",
              "          element.appendChild(docLink);\n",
              "        }\n",
              "      </script>\n",
              "    </div>\n",
              "  </div>\n",
              "  "
            ]
          },
          "metadata": {},
          "execution_count": 6
        }
      ]
    },
    {
      "cell_type": "code",
      "source": [
        "df.isna().sum()"
      ],
      "metadata": {
        "colab": {
          "base_uri": "https://localhost:8080/"
        },
        "id": "KNombQuYzYvS",
        "outputId": "96da6dce-c4cd-4d5d-ea5d-680e6a1321ac"
      },
      "execution_count": 7,
      "outputs": [
        {
          "output_type": "execute_result",
          "data": {
            "text/plain": [
              "IW       0\n",
              "IF       0\n",
              "VW       0\n",
              "FP       0\n",
              "Depth    0\n",
              "Width    0\n",
              "dtype: int64"
            ]
          },
          "metadata": {},
          "execution_count": 7
        }
      ]
    },
    {
      "cell_type": "markdown",
      "source": [
        "Данные чистые, в них нет пропусков, все данные числовых типов, всего значений 72 - по 4 сечения для каждого из 18 образцов, все верно.\n",
        "\n",
        "Рассмотрим статистику по данным и построим гистрограммы и \"ящики с усами\" для всех параметров."
      ],
      "metadata": {
        "id": "1YXFrVKDz_sC"
      }
    },
    {
      "cell_type": "code",
      "source": [
        "df.nunique()"
      ],
      "metadata": {
        "colab": {
          "base_uri": "https://localhost:8080/"
        },
        "id": "WWlB5TRKz_Lp",
        "outputId": "2cdb1c4b-53fd-4a31-c648-943e83f915b2"
      },
      "execution_count": 8,
      "outputs": [
        {
          "output_type": "execute_result",
          "data": {
            "text/plain": [
              "IW        7\n",
              "IF        8\n",
              "VW        5\n",
              "FP        5\n",
              "Depth    29\n",
              "Width    25\n",
              "dtype: int64"
            ]
          },
          "metadata": {},
          "execution_count": 8
        }
      ]
    },
    {
      "cell_type": "code",
      "source": [
        "df.describe().T"
      ],
      "metadata": {
        "id": "Mj7-mxoOuACc",
        "colab": {
          "base_uri": "https://localhost:8080/",
          "height": 237
        },
        "outputId": "93246665-e725-4464-bcc0-4124969b2890"
      },
      "execution_count": 9,
      "outputs": [
        {
          "output_type": "execute_result",
          "data": {
            "text/plain": [
              "       count        mean        std     min     25%     50%     75%     max\n",
              "IW      72.0   45.666667   1.678363   43.00   44.00   45.50   47.00   49.00\n",
              "IF      72.0  141.333333   5.145763  131.00  139.00  141.00  146.00  150.00\n",
              "VW      72.0    8.638889   2.061078    4.50    8.00    9.00   10.00   12.00\n",
              "FP      72.0   78.333333  21.493530   50.00   60.00   80.00   80.00  125.00\n",
              "Depth   72.0    1.195556   0.225081    0.80    1.08    1.20    1.29    1.76\n",
              "Width   72.0    1.970417   0.279040    1.68    1.76    1.84    2.05    2.60"
            ],
            "text/html": [
              "\n",
              "  <div id=\"df-533c95cd-62d6-498d-ba19-66edac756fb0\">\n",
              "    <div class=\"colab-df-container\">\n",
              "      <div>\n",
              "<style scoped>\n",
              "    .dataframe tbody tr th:only-of-type {\n",
              "        vertical-align: middle;\n",
              "    }\n",
              "\n",
              "    .dataframe tbody tr th {\n",
              "        vertical-align: top;\n",
              "    }\n",
              "\n",
              "    .dataframe thead th {\n",
              "        text-align: right;\n",
              "    }\n",
              "</style>\n",
              "<table border=\"1\" class=\"dataframe\">\n",
              "  <thead>\n",
              "    <tr style=\"text-align: right;\">\n",
              "      <th></th>\n",
              "      <th>count</th>\n",
              "      <th>mean</th>\n",
              "      <th>std</th>\n",
              "      <th>min</th>\n",
              "      <th>25%</th>\n",
              "      <th>50%</th>\n",
              "      <th>75%</th>\n",
              "      <th>max</th>\n",
              "    </tr>\n",
              "  </thead>\n",
              "  <tbody>\n",
              "    <tr>\n",
              "      <th>IW</th>\n",
              "      <td>72.0</td>\n",
              "      <td>45.666667</td>\n",
              "      <td>1.678363</td>\n",
              "      <td>43.00</td>\n",
              "      <td>44.00</td>\n",
              "      <td>45.50</td>\n",
              "      <td>47.00</td>\n",
              "      <td>49.00</td>\n",
              "    </tr>\n",
              "    <tr>\n",
              "      <th>IF</th>\n",
              "      <td>72.0</td>\n",
              "      <td>141.333333</td>\n",
              "      <td>5.145763</td>\n",
              "      <td>131.00</td>\n",
              "      <td>139.00</td>\n",
              "      <td>141.00</td>\n",
              "      <td>146.00</td>\n",
              "      <td>150.00</td>\n",
              "    </tr>\n",
              "    <tr>\n",
              "      <th>VW</th>\n",
              "      <td>72.0</td>\n",
              "      <td>8.638889</td>\n",
              "      <td>2.061078</td>\n",
              "      <td>4.50</td>\n",
              "      <td>8.00</td>\n",
              "      <td>9.00</td>\n",
              "      <td>10.00</td>\n",
              "      <td>12.00</td>\n",
              "    </tr>\n",
              "    <tr>\n",
              "      <th>FP</th>\n",
              "      <td>72.0</td>\n",
              "      <td>78.333333</td>\n",
              "      <td>21.493530</td>\n",
              "      <td>50.00</td>\n",
              "      <td>60.00</td>\n",
              "      <td>80.00</td>\n",
              "      <td>80.00</td>\n",
              "      <td>125.00</td>\n",
              "    </tr>\n",
              "    <tr>\n",
              "      <th>Depth</th>\n",
              "      <td>72.0</td>\n",
              "      <td>1.195556</td>\n",
              "      <td>0.225081</td>\n",
              "      <td>0.80</td>\n",
              "      <td>1.08</td>\n",
              "      <td>1.20</td>\n",
              "      <td>1.29</td>\n",
              "      <td>1.76</td>\n",
              "    </tr>\n",
              "    <tr>\n",
              "      <th>Width</th>\n",
              "      <td>72.0</td>\n",
              "      <td>1.970417</td>\n",
              "      <td>0.279040</td>\n",
              "      <td>1.68</td>\n",
              "      <td>1.76</td>\n",
              "      <td>1.84</td>\n",
              "      <td>2.05</td>\n",
              "      <td>2.60</td>\n",
              "    </tr>\n",
              "  </tbody>\n",
              "</table>\n",
              "</div>\n",
              "      <button class=\"colab-df-convert\" onclick=\"convertToInteractive('df-533c95cd-62d6-498d-ba19-66edac756fb0')\"\n",
              "              title=\"Convert this dataframe to an interactive table.\"\n",
              "              style=\"display:none;\">\n",
              "        \n",
              "  <svg xmlns=\"http://www.w3.org/2000/svg\" height=\"24px\"viewBox=\"0 0 24 24\"\n",
              "       width=\"24px\">\n",
              "    <path d=\"M0 0h24v24H0V0z\" fill=\"none\"/>\n",
              "    <path d=\"M18.56 5.44l.94 2.06.94-2.06 2.06-.94-2.06-.94-.94-2.06-.94 2.06-2.06.94zm-11 1L8.5 8.5l.94-2.06 2.06-.94-2.06-.94L8.5 2.5l-.94 2.06-2.06.94zm10 10l.94 2.06.94-2.06 2.06-.94-2.06-.94-.94-2.06-.94 2.06-2.06.94z\"/><path d=\"M17.41 7.96l-1.37-1.37c-.4-.4-.92-.59-1.43-.59-.52 0-1.04.2-1.43.59L10.3 9.45l-7.72 7.72c-.78.78-.78 2.05 0 2.83L4 21.41c.39.39.9.59 1.41.59.51 0 1.02-.2 1.41-.59l7.78-7.78 2.81-2.81c.8-.78.8-2.07 0-2.86zM5.41 20L4 18.59l7.72-7.72 1.47 1.35L5.41 20z\"/>\n",
              "  </svg>\n",
              "      </button>\n",
              "      \n",
              "  <style>\n",
              "    .colab-df-container {\n",
              "      display:flex;\n",
              "      flex-wrap:wrap;\n",
              "      gap: 12px;\n",
              "    }\n",
              "\n",
              "    .colab-df-convert {\n",
              "      background-color: #E8F0FE;\n",
              "      border: none;\n",
              "      border-radius: 50%;\n",
              "      cursor: pointer;\n",
              "      display: none;\n",
              "      fill: #1967D2;\n",
              "      height: 32px;\n",
              "      padding: 0 0 0 0;\n",
              "      width: 32px;\n",
              "    }\n",
              "\n",
              "    .colab-df-convert:hover {\n",
              "      background-color: #E2EBFA;\n",
              "      box-shadow: 0px 1px 2px rgba(60, 64, 67, 0.3), 0px 1px 3px 1px rgba(60, 64, 67, 0.15);\n",
              "      fill: #174EA6;\n",
              "    }\n",
              "\n",
              "    [theme=dark] .colab-df-convert {\n",
              "      background-color: #3B4455;\n",
              "      fill: #D2E3FC;\n",
              "    }\n",
              "\n",
              "    [theme=dark] .colab-df-convert:hover {\n",
              "      background-color: #434B5C;\n",
              "      box-shadow: 0px 1px 3px 1px rgba(0, 0, 0, 0.15);\n",
              "      filter: drop-shadow(0px 1px 2px rgba(0, 0, 0, 0.3));\n",
              "      fill: #FFFFFF;\n",
              "    }\n",
              "  </style>\n",
              "\n",
              "      <script>\n",
              "        const buttonEl =\n",
              "          document.querySelector('#df-533c95cd-62d6-498d-ba19-66edac756fb0 button.colab-df-convert');\n",
              "        buttonEl.style.display =\n",
              "          google.colab.kernel.accessAllowed ? 'block' : 'none';\n",
              "\n",
              "        async function convertToInteractive(key) {\n",
              "          const element = document.querySelector('#df-533c95cd-62d6-498d-ba19-66edac756fb0');\n",
              "          const dataTable =\n",
              "            await google.colab.kernel.invokeFunction('convertToInteractive',\n",
              "                                                     [key], {});\n",
              "          if (!dataTable) return;\n",
              "\n",
              "          const docLinkHtml = 'Like what you see? Visit the ' +\n",
              "            '<a target=\"_blank\" href=https://colab.research.google.com/notebooks/data_table.ipynb>data table notebook</a>'\n",
              "            + ' to learn more about interactive tables.';\n",
              "          element.innerHTML = '';\n",
              "          dataTable['output_type'] = 'display_data';\n",
              "          await google.colab.output.renderOutput(dataTable, element);\n",
              "          const docLink = document.createElement('div');\n",
              "          docLink.innerHTML = docLinkHtml;\n",
              "          element.appendChild(docLink);\n",
              "        }\n",
              "      </script>\n",
              "    </div>\n",
              "  </div>\n",
              "  "
            ]
          },
          "metadata": {},
          "execution_count": 9
        }
      ]
    },
    {
      "cell_type": "code",
      "source": [
        "fig, axes = plt.subplots(6, 2, figsize=(10, 20))\n",
        "for k, column in enumerate(df.columns):    \n",
        "    sns.histplot(data=df, x=column, kde=True, ax=axes[k, 0])\n",
        "    sns.boxplot(data=df, x=column, ax=axes[k, 1])\n",
        "plt.show()"
      ],
      "metadata": {
        "colab": {
          "base_uri": "https://localhost:8080/",
          "height": 1000
        },
        "id": "7tdUgtYdzYyX",
        "outputId": "c844fd73-87fa-4d77-dee9-ad71ed511214"
      },
      "execution_count": 10,
      "outputs": [
        {
          "output_type": "display_data",
          "data": {
            "text/plain": [
              "<Figure size 720x1440 with 12 Axes>"
            ],
            "image/png": "[encoded data removed]"
          },
          "metadata": {
            "needs_background": "light"
          }
        }
      ]
    },
    {
      "cell_type": "markdown",
      "source": [
        "Значения распределены ближе к нормальному, за исключением ширины шва. Также в данных по ширине и глубине шва есть очень высокие значения, которые можно было бы счесть выбросами, если бы не ограниченный объем выборки. У нас есть всего 72 значения, так что удалять какие-то из них мы не станем."
      ],
      "metadata": {
        "id": "AXvbAPLNWDrY"
      }
    },
    {
      "cell_type": "code",
      "source": [
        "sns.pairplot(df, height=3)"
      ],
      "metadata": {
        "colab": {
          "base_uri": "https://localhost:8080/",
          "height": 1000
        },
        "id": "UM78UD1rmpbH",
        "outputId": "077d288b-ebd6-43cc-b179-dafb62ae2765"
      },
      "execution_count": 11,
      "outputs": [
        {
          "output_type": "execute_result",
          "data": {
            "text/plain": [
              "<seaborn.axisgrid.PairGrid at 0x7fc55654bed0>"
            ]
          },
          "metadata": {},
          "execution_count": 11
        },
        {
          "output_type": "display_data",
          "data": {
            "text/plain": [
              "<Figure size 1296x1296 with 42 Axes>"
            ],
            "image/png": "[encoded data removed]"
          },
          "metadata": {
            "needs_background": "light"
          }
        }
      ]
    },
    {
      "cell_type": "code",
      "source": [
        "corr = df.corr()\n",
        "fig, ax = plt.subplots(figsize=(10, 10))\n",
        "sns.heatmap(corr, vmin=-1, vmax=1, annot=True, fmt='.2f', cmap='coolwarm', ax=ax)\n",
        "plt.show()"
      ],
      "metadata": {
        "colab": {
          "base_uri": "https://localhost:8080/",
          "height": 596
        },
        "id": "k2o0_3XCmu3P",
        "outputId": "bdf8b07e-4c7e-4e96-fa67-081a26279ef8"
      },
      "execution_count": 12,
      "outputs": [
        {
          "output_type": "display_data",
          "data": {
            "text/plain": [
              "<Figure size 720x720 with 2 Axes>"
            ],
            "image/png": "[encoded data removed]"
          },
          "metadata": {
            "needs_background": "light"
          }
        }
      ]
    },
    {
      "cell_type": "markdown",
      "source": [
        "Из таблицы корреляций не видно явной связи глубины и ширины шва с другими параметрами. "
      ],
      "metadata": {
        "id": "1tKp5H9kXYxI"
      }
    },
    {
      "cell_type": "markdown",
      "source": [
        "##**2. Создание модели**"
      ],
      "metadata": {
        "id": "w31Y9UOAYBhf"
      }
    },
    {
      "cell_type": "markdown",
      "source": [
        "Целевые и нецелевые переменные количественные, так что логично будет применить регрессию - линейную и градиентный бустинг. Также используем некоторые другие модели и оценим качество их работы. Но для начала разделим данные - выделим целевые признаки ширину 'Width' и глубину 'Depth', а потом разобьем наши данные на обучающую и тестовую выборки."
      ],
      "metadata": {
        "id": "VywqbTOKvjbD"
      }
    },
    {
      "cell_type": "markdown",
      "source": [
        "###Предобработка"
      ],
      "metadata": {
        "id": "Ce_mgTaYYMex"
      }
    },
    {
      "cell_type": "markdown",
      "source": [
        "Разделение данных"
      ],
      "metadata": {
        "id": "fvhbnwmHvUfg"
      }
    },
    {
      "cell_type": "code",
      "source": [
        "X = df.drop(columns = ['Width', 'Depth']).copy()"
      ],
      "metadata": {
        "id": "9rFkxH91wdGZ"
      },
      "execution_count": 13,
      "outputs": []
    },
    {
      "cell_type": "code",
      "source": [
        "y_depth = df['Depth']\n",
        "y_width = df['Width']"
      ],
      "metadata": {
        "id": "tUF98elmwdJe"
      },
      "execution_count": 14,
      "outputs": []
    },
    {
      "cell_type": "code",
      "source": [
        "y_depth = np.array(y_depth).reshape((-1, ))\n",
        "y_width = np.array(y_width).reshape((-1, ))\n"
      ],
      "metadata": {
        "id": "Bybefc824plx"
      },
      "execution_count": 15,
      "outputs": []
    },
    {
      "cell_type": "code",
      "source": [
        "X_train1, X_test1, y_train1, y_test1 = train_test_split(X, y_depth, test_size=0.2, random_state=0)\n",
        "X_train2, X_test2, y_train2, y_test2 = train_test_split(X, y_width, test_size=0.2, random_state=0)"
      ],
      "metadata": {
        "id": "8JSyknsvwdMb"
      },
      "execution_count": 16,
      "outputs": []
    },
    {
      "cell_type": "markdown",
      "source": [
        "Таким образом, у нас получилось 2 набора данных для работы с моделями - один с целевой переменной глубины, второй - с целевой переменной ширины шва. "
      ],
      "metadata": {
        "id": "fSmjOUN9vcri"
      }
    },
    {
      "cell_type": "code",
      "source": [
        "X_train1.describe().T"
      ],
      "metadata": {
        "colab": {
          "base_uri": "https://localhost:8080/",
          "height": 239
        },
        "id": "z2cxdyCTxWJa",
        "outputId": "7706e87a-274b-4549-ee70-1f4c3ae89c60"
      },
      "execution_count": 17,
      "outputs": [
        {
          "output_type": "execute_result",
          "data": {
            "text/plain": [
              "    count        mean        std    min    25%    50%    75%    max\n",
              "IW   57.0   45.561404   1.711490   43.0   44.0   45.0   47.0   49.0\n",
              "IF   57.0  141.719298   5.038262  131.0  140.0  141.0  146.0  150.0\n",
              "VW   57.0    8.719298   1.943436    4.5    8.0    9.0   10.0   12.0\n",
              "FP   57.0   77.017544  20.977446   50.0   60.0   80.0   80.0  125.0"
            ],
            "text/html": [
              "\n",
              "  <div id=\"df-897c2365-6c71-44ad-a463-9402fda82ab0\">\n",
              "    <div class=\"colab-df-container\">\n",
              "      <div>\n",
              "<style scoped>\n",
              "    .dataframe tbody tr th:only-of-type {\n",
              "        vertical-align: middle;\n",
              "    }\n",
              "\n",
              "    .dataframe tbody tr th {\n",
              "        vertical-align: top;\n",
              "    }\n",
              "\n",
              "    .dataframe thead th {\n",
              "        text-align: right;\n",
              "    }\n",
              "</style>\n",
              "<table border=\"1\" class=\"dataframe\">\n",
              "  <thead>\n",
              "    <tr style=\"text-align: right;\">\n",
              "      <th></th>\n",
              "      <th>count</th>\n",
              "      <th>mean</th>\n",
              "      <th>std</th>\n",
              "      <th>min</th>\n",
              "      <th>25%</th>\n",
              "      <th>50%</th>\n",
              "      <th>75%</th>\n",
              "      <th>max</th>\n",
              "    </tr>\n",
              "  </thead>\n",
              "  <tbody>\n",
              "    <tr>\n",
              "      <th>IW</th>\n",
              "      <td>57.0</td>\n",
              "      <td>45.561404</td>\n",
              "      <td>1.711490</td>\n",
              "      <td>43.0</td>\n",
              "      <td>44.0</td>\n",
              "      <td>45.0</td>\n",
              "      <td>47.0</td>\n",
              "      <td>49.0</td>\n",
              "    </tr>\n",
              "    <tr>\n",
              "      <th>IF</th>\n",
              "      <td>57.0</td>\n",
              "      <td>141.719298</td>\n",
              "      <td>5.038262</td>\n",
              "      <td>131.0</td>\n",
              "      <td>140.0</td>\n",
              "      <td>141.0</td>\n",
              "      <td>146.0</td>\n",
              "      <td>150.0</td>\n",
              "    </tr>\n",
              "    <tr>\n",
              "      <th>VW</th>\n",
              "      <td>57.0</td>\n",
              "      <td>8.719298</td>\n",
              "      <td>1.943436</td>\n",
              "      <td>4.5</td>\n",
              "      <td>8.0</td>\n",
              "      <td>9.0</td>\n",
              "      <td>10.0</td>\n",
              "      <td>12.0</td>\n",
              "    </tr>\n",
              "    <tr>\n",
              "      <th>FP</th>\n",
              "      <td>57.0</td>\n",
              "      <td>77.017544</td>\n",
              "      <td>20.977446</td>\n",
              "      <td>50.0</td>\n",
              "      <td>60.0</td>\n",
              "      <td>80.0</td>\n",
              "      <td>80.0</td>\n",
              "      <td>125.0</td>\n",
              "    </tr>\n",
              "  </tbody>\n",
              "</table>\n",
              "</div>\n",
              "      <button class=\"colab-df-convert\" onclick=\"convertToInteractive('df-897c2365-6c71-44ad-a463-9402fda82ab0')\"\n",
              "              title=\"Convert this dataframe to an interactive table.\"\n",
              "              style=\"display:none;\">\n",
              "        \n",
              "  <svg xmlns=\"http://www.w3.org/2000/svg\" height=\"24px\"viewBox=\"0 0 24 24\"\n",
              "       width=\"24px\">\n",
              "    <path d=\"M0 0h24v24H0V0z\" fill=\"none\"/>\n",
              "    <path d=\"M18.56 5.44l.94 2.06.94-2.06 2.06-.94-2.06-.94-.94-2.06-.94 2.06-2.06.94zm-11 1L8.5 8.5l.94-2.06 2.06-.94-2.06-.94L8.5 2.5l-.94 2.06-2.06.94zm10 10l.94 2.06.94-2.06 2.06-.94-2.06-.94-.94-2.06-.94 2.06-2.06.94z\"/><path d=\"M17.41 7.96l-1.37-1.37c-.4-.4-.92-.59-1.43-.59-.52 0-1.04.2-1.43.59L10.3 9.45l-7.72 7.72c-.78.78-.78 2.05 0 2.83L4 21.41c.39.39.9.59 1.41.59.51 0 1.02-.2 1.41-.59l7.78-7.78 2.81-2.81c.8-.78.8-2.07 0-2.86zM5.41 20L4 18.59l7.72-7.72 1.47 1.35L5.41 20z\"/>\n",
              "  </svg>\n",
              "      </button>\n",
              "      \n",
              "  <style>\n",
              "    .colab-df-container {\n",
              "      display:flex;\n",
              "      flex-wrap:wrap;\n",
              "      gap: 12px;\n",
              "    }\n",
              "\n",
              "    .colab-df-convert {\n",
              "      background-color: #E8F0FE;\n",
              "      border: none;\n",
              "      border-radius: 50%;\n",
              "      cursor: pointer;\n",
              "      display: none;\n",
              "      fill: #1967D2;\n",
              "      height: 32px;\n",
              "      padding: 0 0 0 0;\n",
              "      width: 32px;\n",
              "    }\n",
              "\n",
              "    .colab-df-convert:hover {\n",
              "      background-color: #E2EBFA;\n",
              "      box-shadow: 0px 1px 2px rgba(60, 64, 67, 0.3), 0px 1px 3px 1px rgba(60, 64, 67, 0.15);\n",
              "      fill: #174EA6;\n",
              "    }\n",
              "\n",
              "    [theme=dark] .colab-df-convert {\n",
              "      background-color: #3B4455;\n",
              "      fill: #D2E3FC;\n",
              "    }\n",
              "\n",
              "    [theme=dark] .colab-df-convert:hover {\n",
              "      background-color: #434B5C;\n",
              "      box-shadow: 0px 1px 3px 1px rgba(0, 0, 0, 0.15);\n",
              "      filter: drop-shadow(0px 1px 2px rgba(0, 0, 0, 0.3));\n",
              "      fill: #FFFFFF;\n",
              "    }\n",
              "  </style>\n",
              "\n",
              "      <script>\n",
              "        const buttonEl =\n",
              "          document.querySelector('#df-897c2365-6c71-44ad-a463-9402fda82ab0 button.colab-df-convert');\n",
              "        buttonEl.style.display =\n",
              "          google.colab.kernel.accessAllowed ? 'block' : 'none';\n",
              "\n",
              "        async function convertToInteractive(key) {\n",
              "          const element = document.querySelector('#df-897c2365-6c71-44ad-a463-9402fda82ab0');\n",
              "          const dataTable =\n",
              "            await google.colab.kernel.invokeFunction('convertToInteractive',\n",
              "                                                     [key], {});\n",
              "          if (!dataTable) return;\n",
              "\n",
              "          const docLinkHtml = 'Like what you see? Visit the ' +\n",
              "            '<a target=\"_blank\" href=https://colab.research.google.com/notebooks/data_table.ipynb>data table notebook</a>'\n",
              "            + ' to learn more about interactive tables.';\n",
              "          element.innerHTML = '';\n",
              "          dataTable['output_type'] = 'display_data';\n",
              "          await google.colab.output.renderOutput(dataTable, element);\n",
              "          const docLink = document.createElement('div');\n",
              "          docLink.innerHTML = docLinkHtml;\n",
              "          element.appendChild(docLink);\n",
              "        }\n",
              "      </script>\n",
              "    </div>\n",
              "  </div>\n",
              "  "
            ]
          },
          "metadata": {},
          "execution_count": 17
        }
      ]
    },
    {
      "cell_type": "markdown",
      "source": [
        "###Масштабирование"
      ],
      "metadata": {
        "id": "I9nuaJhV_A03"
      }
    },
    {
      "cell_type": "markdown",
      "source": [
        "Разброс данных очень большой, поэтому для дальнейшей работы лучше их масштабировать. Будем использовать StandardScaler, и сначала обучим его на учебной выборке, а потому уже применим модель к тестовой, чтобы не вмешиваться в тестовые данные."
      ],
      "metadata": {
        "id": "oGoXBpqvxcvL"
      }
    },
    {
      "cell_type": "markdown",
      "source": [
        "####Глубина"
      ],
      "metadata": {
        "id": "BX6ztvAsFdvH"
      }
    },
    {
      "cell_type": "code",
      "source": [
        "scaler_1 = StandardScaler() # создаём объект класса scaler\n",
        "X_train1_sc = pd.DataFrame(\n",
        "    scaler_1.fit_transform(X_train1),\n",
        "    columns = X_train1.columns\n",
        ")"
      ],
      "metadata": {
        "id": "3XwoLOKsFkMt"
      },
      "execution_count": 18,
      "outputs": []
    },
    {
      "cell_type": "code",
      "source": [
        "X_test1_sc = pd.DataFrame(\n",
        "    scaler_1.transform(X_test1),\n",
        "    columns = X_test1.columns\n",
        ")"
      ],
      "metadata": {
        "id": "ispAEu15Fl5A"
      },
      "execution_count": 19,
      "outputs": []
    },
    {
      "cell_type": "code",
      "source": [
        "y_train1 = np.array(y_train1).reshape((-1, ))\n",
        "y_test1 = np.array(y_test1).reshape((-1, ))\n"
      ],
      "metadata": {
        "id": "t71v0SHgFzT5"
      },
      "execution_count": 20,
      "outputs": []
    },
    {
      "cell_type": "markdown",
      "source": [
        "####Ширина"
      ],
      "metadata": {
        "id": "NerO52ABFgKc"
      }
    },
    {
      "cell_type": "code",
      "source": [
        "scaler_2 = StandardScaler() # создаём объект класса scaler\n",
        "\n",
        "X_train2_sc = pd.DataFrame(\n",
        "    scaler_2.fit_transform(X_train2),\n",
        "    columns = X_train2.columns\n",
        ")"
      ],
      "metadata": {
        "id": "WKRkGzmOwHhq"
      },
      "execution_count": 21,
      "outputs": []
    },
    {
      "cell_type": "code",
      "source": [
        "X_test2_sc = pd.DataFrame(\n",
        "    scaler_2.transform(X_test2),\n",
        "    columns = X_test2.columns\n",
        ")"
      ],
      "metadata": {
        "id": "HviPvC3Qw1mM"
      },
      "execution_count": 22,
      "outputs": []
    },
    {
      "cell_type": "code",
      "source": [
        "y_train2 = np.array(y_train2).reshape((-1, ))\n",
        "y_test2 = np.array(y_test2).reshape((-1, ))"
      ],
      "metadata": {
        "id": "H8OETdALEfER"
      },
      "execution_count": 23,
      "outputs": []
    },
    {
      "cell_type": "code",
      "source": [
        "X_train2_sc.describe().T"
      ],
      "metadata": {
        "colab": {
          "base_uri": "https://localhost:8080/",
          "height": 239
        },
        "id": "mED-tQqR05GA",
        "outputId": "04cbd31d-c6b4-4564-b897-f2e933df6b13"
      },
      "execution_count": 24,
      "outputs": [
        {
          "output_type": "execute_result",
          "data": {
            "text/plain": [
              "    count          mean       std       min       25%       50%       75%  \\\n",
              "IW   57.0 -1.048869e-15  1.008889 -1.509896 -0.920416 -0.330936  0.848024   \n",
              "IF   57.0  1.612745e-15  1.008889 -2.146491 -0.344282 -0.144036  0.857191   \n",
              "VW   57.0  4.401937e-16  1.008889 -2.190350 -0.373407  0.145720  0.664846   \n",
              "FP   57.0 -7.791039e-18  1.008889 -1.299381 -0.818442  0.143438  0.143438   \n",
              "\n",
              "         max  \n",
              "IW  2.026984  \n",
              "IF  1.658173  \n",
              "VW  1.703099  \n",
              "FP  2.307668  "
            ],
            "text/html": [
              "\n",
              "  <div id=\"df-dc035091-27b6-4a85-9af3-981c6d8f0246\">\n",
              "    <div class=\"colab-df-container\">\n",
              "      <div>\n",
              "<style scoped>\n",
              "    .dataframe tbody tr th:only-of-type {\n",
              "        vertical-align: middle;\n",
              "    }\n",
              "\n",
              "    .dataframe tbody tr th {\n",
              "        vertical-align: top;\n",
              "    }\n",
              "\n",
              "    .dataframe thead th {\n",
              "        text-align: right;\n",
              "    }\n",
              "</style>\n",
              "<table border=\"1\" class=\"dataframe\">\n",
              "  <thead>\n",
              "    <tr style=\"text-align: right;\">\n",
              "      <th></th>\n",
              "      <th>count</th>\n",
              "      <th>mean</th>\n",
              "      <th>std</th>\n",
              "      <th>min</th>\n",
              "      <th>25%</th>\n",
              "      <th>50%</th>\n",
              "      <th>75%</th>\n",
              "      <th>max</th>\n",
              "    </tr>\n",
              "  </thead>\n",
              "  <tbody>\n",
              "    <tr>\n",
              "      <th>IW</th>\n",
              "      <td>57.0</td>\n",
              "      <td>-1.048869e-15</td>\n",
              "      <td>1.008889</td>\n",
              "      <td>-1.509896</td>\n",
              "      <td>-0.920416</td>\n",
              "      <td>-0.330936</td>\n",
              "      <td>0.848024</td>\n",
              "      <td>2.026984</td>\n",
              "    </tr>\n",
              "    <tr>\n",
              "      <th>IF</th>\n",
              "      <td>57.0</td>\n",
              "      <td>1.612745e-15</td>\n",
              "      <td>1.008889</td>\n",
              "      <td>-2.146491</td>\n",
              "      <td>-0.344282</td>\n",
              "      <td>-0.144036</td>\n",
              "      <td>0.857191</td>\n",
              "      <td>1.658173</td>\n",
              "    </tr>\n",
              "    <tr>\n",
              "      <th>VW</th>\n",
              "      <td>57.0</td>\n",
              "      <td>4.401937e-16</td>\n",
              "      <td>1.008889</td>\n",
              "      <td>-2.190350</td>\n",
              "      <td>-0.373407</td>\n",
              "      <td>0.145720</td>\n",
              "      <td>0.664846</td>\n",
              "      <td>1.703099</td>\n",
              "    </tr>\n",
              "    <tr>\n",
              "      <th>FP</th>\n",
              "      <td>57.0</td>\n",
              "      <td>-7.791039e-18</td>\n",
              "      <td>1.008889</td>\n",
              "      <td>-1.299381</td>\n",
              "      <td>-0.818442</td>\n",
              "      <td>0.143438</td>\n",
              "      <td>0.143438</td>\n",
              "      <td>2.307668</td>\n",
              "    </tr>\n",
              "  </tbody>\n",
              "</table>\n",
              "</div>\n",
              "      <button class=\"colab-df-convert\" onclick=\"convertToInteractive('df-dc035091-27b6-4a85-9af3-981c6d8f0246')\"\n",
              "              title=\"Convert this dataframe to an interactive table.\"\n",
              "              style=\"display:none;\">\n",
              "        \n",
              "  <svg xmlns=\"http://www.w3.org/2000/svg\" height=\"24px\"viewBox=\"0 0 24 24\"\n",
              "       width=\"24px\">\n",
              "    <path d=\"M0 0h24v24H0V0z\" fill=\"none\"/>\n",
              "    <path d=\"M18.56 5.44l.94 2.06.94-2.06 2.06-.94-2.06-.94-.94-2.06-.94 2.06-2.06.94zm-11 1L8.5 8.5l.94-2.06 2.06-.94-2.06-.94L8.5 2.5l-.94 2.06-2.06.94zm10 10l.94 2.06.94-2.06 2.06-.94-2.06-.94-.94-2.06-.94 2.06-2.06.94z\"/><path d=\"M17.41 7.96l-1.37-1.37c-.4-.4-.92-.59-1.43-.59-.52 0-1.04.2-1.43.59L10.3 9.45l-7.72 7.72c-.78.78-.78 2.05 0 2.83L4 21.41c.39.39.9.59 1.41.59.51 0 1.02-.2 1.41-.59l7.78-7.78 2.81-2.81c.8-.78.8-2.07 0-2.86zM5.41 20L4 18.59l7.72-7.72 1.47 1.35L5.41 20z\"/>\n",
              "  </svg>\n",
              "      </button>\n",
              "      \n",
              "  <style>\n",
              "    .colab-df-container {\n",
              "      display:flex;\n",
              "      flex-wrap:wrap;\n",
              "      gap: 12px;\n",
              "    }\n",
              "\n",
              "    .colab-df-convert {\n",
              "      background-color: #E8F0FE;\n",
              "      border: none;\n",
              "      border-radius: 50%;\n",
              "      cursor: pointer;\n",
              "      display: none;\n",
              "      fill: #1967D2;\n",
              "      height: 32px;\n",
              "      padding: 0 0 0 0;\n",
              "      width: 32px;\n",
              "    }\n",
              "\n",
              "    .colab-df-convert:hover {\n",
              "      background-color: #E2EBFA;\n",
              "      box-shadow: 0px 1px 2px rgba(60, 64, 67, 0.3), 0px 1px 3px 1px rgba(60, 64, 67, 0.15);\n",
              "      fill: #174EA6;\n",
              "    }\n",
              "\n",
              "    [theme=dark] .colab-df-convert {\n",
              "      background-color: #3B4455;\n",
              "      fill: #D2E3FC;\n",
              "    }\n",
              "\n",
              "    [theme=dark] .colab-df-convert:hover {\n",
              "      background-color: #434B5C;\n",
              "      box-shadow: 0px 1px 3px 1px rgba(0, 0, 0, 0.15);\n",
              "      filter: drop-shadow(0px 1px 2px rgba(0, 0, 0, 0.3));\n",
              "      fill: #FFFFFF;\n",
              "    }\n",
              "  </style>\n",
              "\n",
              "      <script>\n",
              "        const buttonEl =\n",
              "          document.querySelector('#df-dc035091-27b6-4a85-9af3-981c6d8f0246 button.colab-df-convert');\n",
              "        buttonEl.style.display =\n",
              "          google.colab.kernel.accessAllowed ? 'block' : 'none';\n",
              "\n",
              "        async function convertToInteractive(key) {\n",
              "          const element = document.querySelector('#df-dc035091-27b6-4a85-9af3-981c6d8f0246');\n",
              "          const dataTable =\n",
              "            await google.colab.kernel.invokeFunction('convertToInteractive',\n",
              "                                                     [key], {});\n",
              "          if (!dataTable) return;\n",
              "\n",
              "          const docLinkHtml = 'Like what you see? Visit the ' +\n",
              "            '<a target=\"_blank\" href=https://colab.research.google.com/notebooks/data_table.ipynb>data table notebook</a>'\n",
              "            + ' to learn more about interactive tables.';\n",
              "          element.innerHTML = '';\n",
              "          dataTable['output_type'] = 'display_data';\n",
              "          await google.colab.output.renderOutput(dataTable, element);\n",
              "          const docLink = document.createElement('div');\n",
              "          docLink.innerHTML = docLinkHtml;\n",
              "          element.appendChild(docLink);\n",
              "        }\n",
              "      </script>\n",
              "    </div>\n",
              "  </div>\n",
              "  "
            ]
          },
          "metadata": {},
          "execution_count": 24
        }
      ]
    },
    {
      "cell_type": "markdown",
      "source": [
        "Теперь все данные масштабированы, можно выбрать функцию для оценки точности работы модели. Возьмем для этого среднюю квадратичную ошибку и среднюю абсолютную ошибку.\n",
        "\n",
        "Затем создадим функцию для обучения модели на данных для обучения и затем проверки и оценки прогноза на данных для теста. "
      ],
      "metadata": {
        "id": "JW0D4fAS16Km"
      }
    },
    {
      "cell_type": "code",
      "source": [
        "def mse(y_true, y_pred):\n",
        "    return mean_squared_error(y_true,y_pred)"
      ],
      "metadata": {
        "id": "0u0oYlf2JQkC"
      },
      "execution_count": 25,
      "outputs": []
    },
    {
      "cell_type": "code",
      "source": [
        "def mae(y_true, y_pred):\n",
        "    return mean_absolute_error(y_true,y_pred)"
      ],
      "metadata": {
        "id": "TlXHv1f_15n_"
      },
      "execution_count": 26,
      "outputs": []
    },
    {
      "cell_type": "code",
      "source": [
        "#Отдельная функция для целевой переменной \"глубина\"\n",
        "def fit_and_evaluate1(model):\n",
        "    \n",
        "    # Train the model\n",
        "    model.fit(X_train1_sc, y_train1)\n",
        "    \n",
        "    # Make predictions and evalute\n",
        "    model_pred = model.predict(X_test1_sc)\n",
        "    model_mae = mae(y_test1, model_pred)\n",
        "    model_mse = mse(y_test1, model_pred)\n",
        "    \n",
        "    # Return the performance metric\n",
        "    return model_mae, model_mse, print(\"{} MAE для глубины: {}\".format(model, model_mae)), print(\"{} MSE для глубины: {}\".format(model, model_mse))"
      ],
      "metadata": {
        "id": "JUjMhuHK302n"
      },
      "execution_count": 27,
      "outputs": []
    },
    {
      "cell_type": "code",
      "source": [
        "#Отдельная функция для целевой переменной \"ширина\"\n",
        "def fit_and_evaluate2(model):\n",
        "    \n",
        "    # Train the model\n",
        "    model.fit(X_train2_sc, y_train2)\n",
        "    \n",
        "    # Make predictions and evalute\n",
        "    model_pred = model.predict(X_test2_sc)\n",
        "    model_mae = mae(y_test2, model_pred)\n",
        "    model_mse = mse(y_test2, model_pred)\n",
        "\n",
        "    # Return the performance metric\n",
        "    return model_mae, model_mse, print(\"{} MAE для ширины: {}\".format(model, model_mae)), print(\"{} MSE для ширины: {}\".format(model, model_mse))"
      ],
      "metadata": {
        "id": "j6YsmrQY3TL5"
      },
      "execution_count": 28,
      "outputs": []
    },
    {
      "cell_type": "markdown",
      "source": [
        "###Модели"
      ],
      "metadata": {
        "id": "0AAc59Vf_J_X"
      }
    },
    {
      "cell_type": "markdown",
      "source": [
        "Для сравнения возьмем алгоритмы линейной регрессии, метода опорных векторов, метода случайного леса, градиентного бустинга, метода ближайших соседей, гребневой регрессии, а также класс MLPRegressor с многослойным перцептроном (MLP) из библиотеки scikit-learn. Затем попробуем построить нейронную сеть."
      ],
      "metadata": {
        "id": "JebrFyVi5jgt"
      }
    },
    {
      "cell_type": "markdown",
      "source": [
        "####Линейная регрессия"
      ],
      "metadata": {
        "id": "pSJmQkhu23Rs"
      }
    },
    {
      "cell_type": "code",
      "source": [
        "#для целевой переменной \"глубина\"\n",
        "lr1 = LinearRegression()\n",
        "lr_evaluation1 = fit_and_evaluate1(lr1)"
      ],
      "metadata": {
        "colab": {
          "base_uri": "https://localhost:8080/"
        },
        "id": "YWH4SPjWnwdj",
        "outputId": "3c1ad0db-a800-4f00-bb81-857494eb31db"
      },
      "execution_count": 29,
      "outputs": [
        {
          "output_type": "stream",
          "name": "stdout",
          "text": [
            "LinearRegression() MAE для глубины: 0.11436008995520407\n",
            "LinearRegression() MSE для глубины: 0.020908925212918043\n"
          ]
        }
      ]
    },
    {
      "cell_type": "code",
      "source": [
        "#для целевой переменной \"ширина\"\n",
        "lr2 = LinearRegression()\n",
        "lr_evaluation2 = fit_and_evaluate2(lr2)"
      ],
      "metadata": {
        "colab": {
          "base_uri": "https://localhost:8080/"
        },
        "id": "i8ZRQ3tB6wwi",
        "outputId": "41a3192f-a06c-40ec-b188-382776e90ae7"
      },
      "execution_count": 30,
      "outputs": [
        {
          "output_type": "stream",
          "name": "stdout",
          "text": [
            "LinearRegression() MAE для ширины: 0.06422480515166676\n",
            "LinearRegression() MSE для ширины: 0.006596885753996514\n"
          ]
        }
      ]
    },
    {
      "cell_type": "markdown",
      "source": [
        "####Метод опорных векторов"
      ],
      "metadata": {
        "id": "zgWbVlpc7b_j"
      }
    },
    {
      "cell_type": "code",
      "source": [
        "#для целевой переменной \"глубина\"\n",
        "svm1 = SVR()\n",
        "svm_evaluation1 = fit_and_evaluate1(svm1)"
      ],
      "metadata": {
        "colab": {
          "base_uri": "https://localhost:8080/"
        },
        "id": "Dc2-PQdd6-0S",
        "outputId": "e98b24ef-0d86-40c0-b9c7-ec2874363229"
      },
      "execution_count": 31,
      "outputs": [
        {
          "output_type": "stream",
          "name": "stdout",
          "text": [
            "SVR() MAE для глубины: 0.06048830184836954\n",
            "SVR() MSE для глубины: 0.006202936799197228\n"
          ]
        }
      ]
    },
    {
      "cell_type": "code",
      "source": [
        "#для целевой переменной \"ширина\"\n",
        "svm2 = SVR()\n",
        "svm_evaluation2 = fit_and_evaluate2(svm2)"
      ],
      "metadata": {
        "id": "C6BbFKF1n5u8",
        "colab": {
          "base_uri": "https://localhost:8080/"
        },
        "outputId": "1b39d004-0a95-4879-bf27-fa98f0692af7"
      },
      "execution_count": 32,
      "outputs": [
        {
          "output_type": "stream",
          "name": "stdout",
          "text": [
            "SVR() MAE для ширины: 0.06547768970203076\n",
            "SVR() MSE для ширины: 0.007739431383130551\n"
          ]
        }
      ]
    },
    {
      "cell_type": "markdown",
      "source": [
        "####Метод случайного леса\n"
      ],
      "metadata": {
        "id": "xjXFg9G37Bof"
      }
    },
    {
      "cell_type": "code",
      "source": [
        "#для целевой переменной \"глубина\"\n",
        "random_forest1 = RandomForestRegressor(random_state=60)\n",
        "random_forest_evaluation1 = fit_and_evaluate1(random_forest1)"
      ],
      "metadata": {
        "colab": {
          "base_uri": "https://localhost:8080/"
        },
        "id": "W6bZnLSC7tHy",
        "outputId": "b4f74003-d2b0-4931-e933-45af68280a3e"
      },
      "execution_count": 33,
      "outputs": [
        {
          "output_type": "stream",
          "name": "stdout",
          "text": [
            "RandomForestRegressor(random_state=60) MAE для глубины: 0.08008003396603405\n",
            "RandomForestRegressor(random_state=60) MSE для глубины: 0.010700300698824787\n"
          ]
        }
      ]
    },
    {
      "cell_type": "code",
      "source": [
        "#для целевой переменной \"ширина\"\n",
        "random_forest2 = RandomForestRegressor(random_state=60)\n",
        "random_forest_evaluation2 = fit_and_evaluate2(random_forest2)"
      ],
      "metadata": {
        "colab": {
          "base_uri": "https://localhost:8080/"
        },
        "id": "kW4WJ3bX7tN_",
        "outputId": "14debc52-fdf8-4e7e-9b94-84750de8ebe0"
      },
      "execution_count": 34,
      "outputs": [
        {
          "output_type": "stream",
          "name": "stdout",
          "text": [
            "RandomForestRegressor(random_state=60) MAE для ширины: 0.0518606995966993\n",
            "RandomForestRegressor(random_state=60) MSE для ширины: 0.0050158168262485975\n"
          ]
        }
      ]
    },
    {
      "cell_type": "markdown",
      "source": [
        "####Градиентный бустинг"
      ],
      "metadata": {
        "id": "N5p0DfqO76FQ"
      }
    },
    {
      "cell_type": "code",
      "source": [
        "gradient_boosting1 = GradientBoostingRegressor(random_state=60)\n",
        "gradient_boosting_evaluation1 = fit_and_evaluate1(gradient_boosting1)"
      ],
      "metadata": {
        "colab": {
          "base_uri": "https://localhost:8080/"
        },
        "id": "IKy8gkrA8BtT",
        "outputId": "18c71dc1-0471-4a2d-9503-6f962969ccb6"
      },
      "execution_count": 35,
      "outputs": [
        {
          "output_type": "stream",
          "name": "stdout",
          "text": [
            "GradientBoostingRegressor(random_state=60) MAE для глубины: 0.07892963993241724\n",
            "GradientBoostingRegressor(random_state=60) MSE для глубины: 0.010331842620568635\n"
          ]
        }
      ]
    },
    {
      "cell_type": "code",
      "source": [
        "#для целевой переменной \"ширина\"\n",
        "gradient_boosting2 = GradientBoostingRegressor(random_state=60)\n",
        "gradient_boosting_evaluation2 = fit_and_evaluate2(gradient_boosting2)"
      ],
      "metadata": {
        "colab": {
          "base_uri": "https://localhost:8080/"
        },
        "id": "KeEgn4UF8BwH",
        "outputId": "a7eb3d85-9d8c-47e9-a5e5-6ffb18c77baa"
      },
      "execution_count": 36,
      "outputs": [
        {
          "output_type": "stream",
          "name": "stdout",
          "text": [
            "GradientBoostingRegressor(random_state=60) MAE для ширины: 0.05200017940843359\n",
            "GradientBoostingRegressor(random_state=60) MSE для ширины: 0.004989901591444639\n"
          ]
        }
      ]
    },
    {
      "cell_type": "markdown",
      "source": [
        "####Метод ближайших соседей"
      ],
      "metadata": {
        "id": "Hf-tiRSQ8QSc"
      }
    },
    {
      "cell_type": "code",
      "source": [
        "#для целевой переменной \"глубина\"\n",
        "knn1 = KNeighborsRegressor(n_neighbors=10)\n",
        "knn_evaluation1 = fit_and_evaluate1(knn1)"
      ],
      "metadata": {
        "colab": {
          "base_uri": "https://localhost:8080/"
        },
        "id": "WN9ouAbk8S9P",
        "outputId": "a911bdc9-8a06-47a0-8b0d-86dbaa2f4e68"
      },
      "execution_count": 37,
      "outputs": [
        {
          "output_type": "stream",
          "name": "stdout",
          "text": [
            "KNeighborsRegressor(n_neighbors=10) MAE для глубины: 0.07013333333333334\n",
            "KNeighborsRegressor(n_neighbors=10) MSE для глубины: 0.007547733333333332\n"
          ]
        }
      ]
    },
    {
      "cell_type": "code",
      "source": [
        "#для целевой переменной \"ширина\"\n",
        "knn2 = KNeighborsRegressor(n_neighbors=10)\n",
        "knn_evaluation2 = fit_and_evaluate2(knn2)"
      ],
      "metadata": {
        "colab": {
          "base_uri": "https://localhost:8080/"
        },
        "id": "AB12kgje8TA2",
        "outputId": "d4669f44-3fa3-4f85-a7d8-92f6173ce6a2"
      },
      "execution_count": 38,
      "outputs": [
        {
          "output_type": "stream",
          "name": "stdout",
          "text": [
            "KNeighborsRegressor(n_neighbors=10) MAE для ширины: 0.07626666666666664\n",
            "KNeighborsRegressor(n_neighbors=10) MSE для ширины: 0.010046266666666658\n"
          ]
        }
      ]
    },
    {
      "cell_type": "markdown",
      "source": [
        "####Гребневая регрессия"
      ],
      "metadata": {
        "id": "pkg7X7o58okb"
      }
    },
    {
      "cell_type": "code",
      "source": [
        "#для целевой переменной \"глубина\"\n",
        "ridge1 = RidgeCV(scoring='neg_mean_absolute_error')\n",
        "ridge_evaluation1 = fit_and_evaluate1(ridge1)"
      ],
      "metadata": {
        "colab": {
          "base_uri": "https://localhost:8080/"
        },
        "id": "46YoMUfP8uDK",
        "outputId": "52651bfd-fcd0-4047-a603-8a284badeee2"
      },
      "execution_count": 39,
      "outputs": [
        {
          "output_type": "stream",
          "name": "stdout",
          "text": [
            "RidgeCV(alphas=array([ 0.1,  1. , 10. ]), scoring='neg_mean_absolute_error') MAE для глубины: 0.11256066845557715\n",
            "RidgeCV(alphas=array([ 0.1,  1. , 10. ]), scoring='neg_mean_absolute_error') MSE для глубины: 0.020073566321178665\n"
          ]
        }
      ]
    },
    {
      "cell_type": "code",
      "source": [
        "#для целевой переменной \"ширина\"\n",
        "ridge2 = RidgeCV(scoring='neg_mean_absolute_error')\n",
        "ridge_evaluation2 = fit_and_evaluate2(ridge2)"
      ],
      "metadata": {
        "colab": {
          "base_uri": "https://localhost:8080/"
        },
        "id": "nQLh293h8uHT",
        "outputId": "2fc384d8-2dc0-4a11-d760-e8c51a5e589c"
      },
      "execution_count": 40,
      "outputs": [
        {
          "output_type": "stream",
          "name": "stdout",
          "text": [
            "RidgeCV(alphas=array([ 0.1,  1. , 10. ]), scoring='neg_mean_absolute_error') MAE для ширины: 0.06505723817863664\n",
            "RidgeCV(alphas=array([ 0.1,  1. , 10. ]), scoring='neg_mean_absolute_error') MSE для ширины: 0.006635477971727334\n"
          ]
        }
      ]
    },
    {
      "cell_type": "markdown",
      "source": [
        "####MLPRegressor"
      ],
      "metadata": {
        "id": "wdiILrHZ6cT9"
      }
    },
    {
      "cell_type": "code",
      "source": [
        "#для целевой переменной \"глубина\"\n",
        "mlp1 = MLPRegressor(solver = 'sgd', \n",
        "                           random_state = 15,\n",
        "                           max_iter = 500, \n",
        "                           batch_size = 10)\n",
        "mlp_ev1 = fit_and_evaluate1(mlp1)"
      ],
      "metadata": {
        "colab": {
          "base_uri": "https://localhost:8080/"
        },
        "id": "IIaz1_xVgkiA",
        "outputId": "3e8f9083-58a4-49b7-c7f8-8941e49d1604"
      },
      "execution_count": 41,
      "outputs": [
        {
          "output_type": "stream",
          "name": "stdout",
          "text": [
            "MLPRegressor(batch_size=10, max_iter=500, random_state=15, solver='sgd') MAE для глубины: 0.07459027170572043\n",
            "MLPRegressor(batch_size=10, max_iter=500, random_state=15, solver='sgd') MSE для глубины: 0.008216993576355523\n"
          ]
        }
      ]
    },
    {
      "cell_type": "code",
      "source": [
        "#для целевой переменной \"ширина\"\n",
        "mlp2 = MLPRegressor(solver = 'sgd', \n",
        "                           random_state = 15,\n",
        "                           max_iter = 500, \n",
        "                           batch_size = 10)\n",
        "mlp_ev2 = fit_and_evaluate1(mlp2)"
      ],
      "metadata": {
        "id": "jmr6-4AKoghm",
        "colab": {
          "base_uri": "https://localhost:8080/"
        },
        "outputId": "1ae4eefc-d917-46d2-ff87-4dfdb26fc513"
      },
      "execution_count": 42,
      "outputs": [
        {
          "output_type": "stream",
          "name": "stdout",
          "text": [
            "MLPRegressor(batch_size=10, max_iter=500, random_state=15, solver='sgd') MAE для глубины: 0.07459027170572043\n",
            "MLPRegressor(batch_size=10, max_iter=500, random_state=15, solver='sgd') MSE для глубины: 0.008216993576355523\n"
          ]
        }
      ]
    },
    {
      "cell_type": "markdown",
      "source": [
        "###Искусственная нейронная сеть"
      ],
      "metadata": {
        "id": "Szsc1q3p9BjR"
      }
    },
    {
      "cell_type": "markdown",
      "source": [
        "В данном датасете не так много данных, поэтому использование нейронных сетей может быть излишним, но раз того требует задание, попробуем и этот метод."
      ],
      "metadata": {
        "id": "SIc9WFnE9J4x"
      }
    },
    {
      "cell_type": "code",
      "source": [
        "#для целевой переменной \"глубина\"\n",
        "model1 = Sequential()\n",
        "model1.add(Dense(X_train1_sc.shape[1], input_dim = X_train1_sc.shape[1], activation='linear'))\n",
        "model1.add(Dense(100))\n",
        "model1.add(Dense(1, activation='relu'))\n",
        "model1.compile(loss='mse', optimizer=\"adam\", metrics=['mse', 'mae'])\n",
        "history = model1.fit(X_train1_sc, y_train1,\n",
        "                    epochs=100,\n",
        "                    verbose=2,\n",
        "                    validation_data=(X_test1_sc, y_test1))\n",
        "\n",
        "plt.plot(history.history['loss'],label='loss')\n",
        "plt.plot(history.history['val_loss'], label='val_loss')\n",
        "plt.xlabel(\"Epochs\")\n",
        "plt.ylabel(\"Error\")\n",
        "plt.legend()\n",
        "plt.show()"
      ],
      "metadata": {
        "colab": {
          "base_uri": "https://localhost:8080/",
          "height": 1000
        },
        "id": "yQZ4o6XZA2fC",
        "outputId": "14a63422-a8e9-477f-dbbd-aacbf90b96a4"
      },
      "execution_count": 43,
      "outputs": [
        {
          "output_type": "stream",
          "name": "stdout",
          "text": [
            "Epoch 1/100\n",
            "2/2 - 2s - loss: 1.3272 - mse: 1.3272 - mae: 1.1257 - val_loss: 1.2807 - val_mse: 1.2807 - val_mae: 1.1094 - 2s/epoch - 821ms/step\n",
            "Epoch 2/100\n",
            "2/2 - 0s - loss: 1.1966 - mse: 1.1966 - mae: 1.0563 - val_loss: 1.1859 - val_mse: 1.1859 - val_mae: 1.0584 - 23ms/epoch - 12ms/step\n",
            "Epoch 3/100\n",
            "2/2 - 0s - loss: 1.0941 - mse: 1.0941 - mae: 0.9888 - val_loss: 1.1083 - val_mse: 1.1083 - val_mae: 1.0088 - 22ms/epoch - 11ms/step\n",
            "Epoch 4/100\n",
            "2/2 - 0s - loss: 1.0113 - mse: 1.0113 - mae: 0.9226 - val_loss: 1.0473 - val_mse: 1.0473 - val_mae: 0.9617 - 42ms/epoch - 21ms/step\n",
            "Epoch 5/100\n",
            "2/2 - 0s - loss: 0.9507 - mse: 0.9507 - mae: 0.8782 - val_loss: 1.0015 - val_mse: 1.0015 - val_mae: 0.9174 - 24ms/epoch - 12ms/step\n",
            "Epoch 6/100\n",
            "2/2 - 0s - loss: 0.9094 - mse: 0.9094 - mae: 0.8468 - val_loss: 0.9690 - val_mse: 0.9690 - val_mae: 0.8775 - 26ms/epoch - 13ms/step\n",
            "Epoch 7/100\n",
            "2/2 - 0s - loss: 0.8921 - mse: 0.8921 - mae: 0.8249 - val_loss: 0.9468 - val_mse: 0.9468 - val_mae: 0.8422 - 26ms/epoch - 13ms/step\n",
            "Epoch 8/100\n",
            "2/2 - 0s - loss: 0.8812 - mse: 0.8812 - mae: 0.8099 - val_loss: 0.9324 - val_mse: 0.9324 - val_mae: 0.8142 - 22ms/epoch - 11ms/step\n",
            "Epoch 9/100\n",
            "2/2 - 0s - loss: 0.8703 - mse: 0.8703 - mae: 0.7992 - val_loss: 0.9229 - val_mse: 0.9229 - val_mae: 0.8013 - 28ms/epoch - 14ms/step\n",
            "Epoch 10/100\n",
            "2/2 - 0s - loss: 0.8655 - mse: 0.8655 - mae: 0.8007 - val_loss: 0.9150 - val_mse: 0.9150 - val_mae: 0.7973 - 26ms/epoch - 13ms/step\n",
            "Epoch 11/100\n",
            "2/2 - 0s - loss: 0.8531 - mse: 0.8531 - mae: 0.7980 - val_loss: 0.9080 - val_mse: 0.9080 - val_mae: 0.7943 - 24ms/epoch - 12ms/step\n",
            "Epoch 12/100\n",
            "2/2 - 0s - loss: 0.8365 - mse: 0.8365 - mae: 0.7907 - val_loss: 0.9014 - val_mse: 0.9014 - val_mae: 0.7923 - 25ms/epoch - 13ms/step\n",
            "Epoch 13/100\n",
            "2/2 - 0s - loss: 0.8163 - mse: 0.8163 - mae: 0.7796 - val_loss: 0.8951 - val_mse: 0.8951 - val_mae: 0.7908 - 23ms/epoch - 11ms/step\n",
            "Epoch 14/100\n",
            "2/2 - 0s - loss: 0.7965 - mse: 0.7965 - mae: 0.7673 - val_loss: 0.8899 - val_mse: 0.8899 - val_mae: 0.7899 - 23ms/epoch - 11ms/step\n",
            "Epoch 15/100\n",
            "2/2 - 0s - loss: 0.7722 - mse: 0.7722 - mae: 0.7531 - val_loss: 0.8855 - val_mse: 0.8855 - val_mae: 0.7926 - 23ms/epoch - 11ms/step\n",
            "Epoch 16/100\n",
            "2/2 - 0s - loss: 0.7524 - mse: 0.7524 - mae: 0.7425 - val_loss: 0.8822 - val_mse: 0.8822 - val_mae: 0.8010 - 27ms/epoch - 14ms/step\n",
            "Epoch 17/100\n",
            "2/2 - 0s - loss: 0.7338 - mse: 0.7338 - mae: 0.7348 - val_loss: 0.8800 - val_mse: 0.8800 - val_mae: 0.8096 - 24ms/epoch - 12ms/step\n",
            "Epoch 18/100\n",
            "2/2 - 0s - loss: 0.7186 - mse: 0.7186 - mae: 0.7275 - val_loss: 0.8546 - val_mse: 0.8546 - val_mae: 0.8084 - 26ms/epoch - 13ms/step\n",
            "Epoch 19/100\n",
            "2/2 - 0s - loss: 0.6811 - mse: 0.6811 - mae: 0.7100 - val_loss: 0.8038 - val_mse: 0.8038 - val_mae: 0.7961 - 24ms/epoch - 12ms/step\n",
            "Epoch 20/100\n",
            "2/2 - 0s - loss: 0.6410 - mse: 0.6410 - mae: 0.6907 - val_loss: 0.7460 - val_mse: 0.7460 - val_mae: 0.7806 - 23ms/epoch - 12ms/step\n",
            "Epoch 21/100\n",
            "2/2 - 0s - loss: 0.5888 - mse: 0.5888 - mae: 0.6697 - val_loss: 0.6896 - val_mse: 0.6896 - val_mae: 0.7630 - 26ms/epoch - 13ms/step\n",
            "Epoch 22/100\n",
            "2/2 - 0s - loss: 0.5395 - mse: 0.5395 - mae: 0.6485 - val_loss: 0.6365 - val_mse: 0.6365 - val_mae: 0.7433 - 23ms/epoch - 11ms/step\n",
            "Epoch 23/100\n",
            "2/2 - 0s - loss: 0.4952 - mse: 0.4952 - mae: 0.6292 - val_loss: 0.5692 - val_mse: 0.5692 - val_mae: 0.7116 - 23ms/epoch - 12ms/step\n",
            "Epoch 24/100\n",
            "2/2 - 0s - loss: 0.4522 - mse: 0.4522 - mae: 0.6039 - val_loss: 0.5014 - val_mse: 0.5014 - val_mae: 0.6748 - 22ms/epoch - 11ms/step\n",
            "Epoch 25/100\n",
            "2/2 - 0s - loss: 0.3974 - mse: 0.3974 - mae: 0.5706 - val_loss: 0.4032 - val_mse: 0.4032 - val_mae: 0.6147 - 25ms/epoch - 12ms/step\n",
            "Epoch 26/100\n",
            "2/2 - 0s - loss: 0.3282 - mse: 0.3282 - mae: 0.5258 - val_loss: 0.3150 - val_mse: 0.3150 - val_mae: 0.5492 - 22ms/epoch - 11ms/step\n",
            "Epoch 27/100\n",
            "2/2 - 0s - loss: 0.2746 - mse: 0.2746 - mae: 0.4897 - val_loss: 0.2472 - val_mse: 0.2472 - val_mae: 0.4836 - 29ms/epoch - 14ms/step\n",
            "Epoch 28/100\n",
            "2/2 - 0s - loss: 0.2331 - mse: 0.2331 - mae: 0.4489 - val_loss: 0.1993 - val_mse: 0.1993 - val_mae: 0.4227 - 27ms/epoch - 13ms/step\n",
            "Epoch 29/100\n",
            "2/2 - 0s - loss: 0.2043 - mse: 0.2043 - mae: 0.4148 - val_loss: 0.1638 - val_mse: 0.1638 - val_mae: 0.3692 - 24ms/epoch - 12ms/step\n",
            "Epoch 30/100\n",
            "2/2 - 0s - loss: 0.1773 - mse: 0.1773 - mae: 0.3890 - val_loss: 0.1333 - val_mse: 0.1333 - val_mae: 0.3252 - 23ms/epoch - 11ms/step\n",
            "Epoch 31/100\n",
            "2/2 - 0s - loss: 0.1460 - mse: 0.1460 - mae: 0.3523 - val_loss: 0.1055 - val_mse: 0.1055 - val_mae: 0.2909 - 26ms/epoch - 13ms/step\n",
            "Epoch 32/100\n",
            "2/2 - 0s - loss: 0.1145 - mse: 0.1145 - mae: 0.3087 - val_loss: 0.0821 - val_mse: 0.0821 - val_mae: 0.2620 - 22ms/epoch - 11ms/step\n",
            "Epoch 33/100\n",
            "2/2 - 0s - loss: 0.0877 - mse: 0.0877 - mae: 0.2627 - val_loss: 0.0643 - val_mse: 0.0643 - val_mae: 0.2360 - 44ms/epoch - 22ms/step\n",
            "Epoch 34/100\n",
            "2/2 - 0s - loss: 0.0683 - mse: 0.0683 - mae: 0.2277 - val_loss: 0.0522 - val_mse: 0.0522 - val_mae: 0.2107 - 23ms/epoch - 12ms/step\n",
            "Epoch 35/100\n",
            "2/2 - 0s - loss: 0.0542 - mse: 0.0542 - mae: 0.1969 - val_loss: 0.0431 - val_mse: 0.0431 - val_mae: 0.1836 - 24ms/epoch - 12ms/step\n",
            "Epoch 36/100\n",
            "2/2 - 0s - loss: 0.0450 - mse: 0.0450 - mae: 0.1710 - val_loss: 0.0344 - val_mse: 0.0344 - val_mae: 0.1541 - 23ms/epoch - 12ms/step\n",
            "Epoch 37/100\n",
            "2/2 - 0s - loss: 0.0375 - mse: 0.0375 - mae: 0.1490 - val_loss: 0.0255 - val_mse: 0.0255 - val_mae: 0.1290 - 25ms/epoch - 13ms/step\n",
            "Epoch 38/100\n",
            "2/2 - 0s - loss: 0.0312 - mse: 0.0312 - mae: 0.1338 - val_loss: 0.0171 - val_mse: 0.0171 - val_mae: 0.0982 - 29ms/epoch - 15ms/step\n",
            "Epoch 39/100\n",
            "2/2 - 0s - loss: 0.0265 - mse: 0.0265 - mae: 0.1232 - val_loss: 0.0113 - val_mse: 0.0113 - val_mae: 0.0770 - 23ms/epoch - 11ms/step\n",
            "Epoch 40/100\n",
            "2/2 - 0s - loss: 0.0237 - mse: 0.0237 - mae: 0.1147 - val_loss: 0.0091 - val_mse: 0.0091 - val_mae: 0.0662 - 22ms/epoch - 11ms/step\n",
            "Epoch 41/100\n",
            "2/2 - 0s - loss: 0.0232 - mse: 0.0232 - mae: 0.1112 - val_loss: 0.0092 - val_mse: 0.0092 - val_mae: 0.0708 - 46ms/epoch - 23ms/step\n",
            "Epoch 42/100\n",
            "2/2 - 0s - loss: 0.0227 - mse: 0.0227 - mae: 0.1067 - val_loss: 0.0096 - val_mse: 0.0096 - val_mae: 0.0763 - 44ms/epoch - 22ms/step\n",
            "Epoch 43/100\n",
            "2/2 - 0s - loss: 0.0239 - mse: 0.0239 - mae: 0.1074 - val_loss: 0.0102 - val_mse: 0.0102 - val_mae: 0.0796 - 24ms/epoch - 12ms/step\n",
            "Epoch 44/100\n",
            "2/2 - 0s - loss: 0.0234 - mse: 0.0234 - mae: 0.1060 - val_loss: 0.0104 - val_mse: 0.0104 - val_mae: 0.0770 - 23ms/epoch - 11ms/step\n",
            "Epoch 45/100\n",
            "2/2 - 0s - loss: 0.0232 - mse: 0.0232 - mae: 0.1060 - val_loss: 0.0108 - val_mse: 0.0108 - val_mae: 0.0780 - 23ms/epoch - 11ms/step\n",
            "Epoch 46/100\n",
            "2/2 - 0s - loss: 0.0234 - mse: 0.0234 - mae: 0.1078 - val_loss: 0.0116 - val_mse: 0.0116 - val_mae: 0.0868 - 25ms/epoch - 13ms/step\n",
            "Epoch 47/100\n",
            "2/2 - 0s - loss: 0.0237 - mse: 0.0237 - mae: 0.1095 - val_loss: 0.0124 - val_mse: 0.0124 - val_mae: 0.0930 - 27ms/epoch - 14ms/step\n",
            "Epoch 48/100\n",
            "2/2 - 0s - loss: 0.0242 - mse: 0.0242 - mae: 0.1119 - val_loss: 0.0130 - val_mse: 0.0130 - val_mae: 0.0969 - 23ms/epoch - 11ms/step\n",
            "Epoch 49/100\n",
            "2/2 - 0s - loss: 0.0241 - mse: 0.0241 - mae: 0.1115 - val_loss: 0.0128 - val_mse: 0.0128 - val_mae: 0.0940 - 43ms/epoch - 22ms/step\n",
            "Epoch 50/100\n",
            "2/2 - 0s - loss: 0.0231 - mse: 0.0231 - mae: 0.1083 - val_loss: 0.0127 - val_mse: 0.0127 - val_mae: 0.0910 - 23ms/epoch - 11ms/step\n",
            "Epoch 51/100\n",
            "2/2 - 0s - loss: 0.0224 - mse: 0.0224 - mae: 0.1055 - val_loss: 0.0125 - val_mse: 0.0125 - val_mae: 0.0875 - 23ms/epoch - 11ms/step\n",
            "Epoch 52/100\n",
            "2/2 - 0s - loss: 0.0222 - mse: 0.0222 - mae: 0.1045 - val_loss: 0.0125 - val_mse: 0.0125 - val_mae: 0.0835 - 21ms/epoch - 11ms/step\n",
            "Epoch 53/100\n",
            "2/2 - 0s - loss: 0.0217 - mse: 0.0217 - mae: 0.1032 - val_loss: 0.0125 - val_mse: 0.0125 - val_mae: 0.0836 - 22ms/epoch - 11ms/step\n",
            "Epoch 54/100\n",
            "2/2 - 0s - loss: 0.0214 - mse: 0.0214 - mae: 0.1027 - val_loss: 0.0126 - val_mse: 0.0126 - val_mae: 0.0840 - 23ms/epoch - 11ms/step\n",
            "Epoch 55/100\n",
            "2/2 - 0s - loss: 0.0212 - mse: 0.0212 - mae: 0.1031 - val_loss: 0.0127 - val_mse: 0.0127 - val_mae: 0.0842 - 23ms/epoch - 11ms/step\n",
            "Epoch 56/100\n",
            "2/2 - 0s - loss: 0.0209 - mse: 0.0209 - mae: 0.1029 - val_loss: 0.0129 - val_mse: 0.0129 - val_mae: 0.0874 - 25ms/epoch - 12ms/step\n",
            "Epoch 57/100\n",
            "2/2 - 0s - loss: 0.0206 - mse: 0.0206 - mae: 0.1039 - val_loss: 0.0132 - val_mse: 0.0132 - val_mae: 0.0925 - 23ms/epoch - 12ms/step\n",
            "Epoch 58/100\n",
            "2/2 - 0s - loss: 0.0203 - mse: 0.0203 - mae: 0.1049 - val_loss: 0.0136 - val_mse: 0.0136 - val_mae: 0.0957 - 23ms/epoch - 11ms/step\n",
            "Epoch 59/100\n",
            "2/2 - 0s - loss: 0.0202 - mse: 0.0202 - mae: 0.1060 - val_loss: 0.0141 - val_mse: 0.0141 - val_mae: 0.0991 - 23ms/epoch - 12ms/step\n",
            "Epoch 60/100\n",
            "2/2 - 0s - loss: 0.0204 - mse: 0.0204 - mae: 0.1081 - val_loss: 0.0146 - val_mse: 0.0146 - val_mae: 0.1024 - 23ms/epoch - 12ms/step\n",
            "Epoch 61/100\n",
            "2/2 - 0s - loss: 0.0203 - mse: 0.0203 - mae: 0.1088 - val_loss: 0.0147 - val_mse: 0.0147 - val_mae: 0.1020 - 23ms/epoch - 11ms/step\n",
            "Epoch 62/100\n",
            "2/2 - 0s - loss: 0.0202 - mse: 0.0202 - mae: 0.1088 - val_loss: 0.0146 - val_mse: 0.0146 - val_mae: 0.1013 - 26ms/epoch - 13ms/step\n",
            "Epoch 63/100\n",
            "2/2 - 0s - loss: 0.0201 - mse: 0.0201 - mae: 0.1082 - val_loss: 0.0144 - val_mse: 0.0144 - val_mae: 0.0997 - 24ms/epoch - 12ms/step\n",
            "Epoch 64/100\n",
            "2/2 - 0s - loss: 0.0201 - mse: 0.0201 - mae: 0.1072 - val_loss: 0.0141 - val_mse: 0.0141 - val_mae: 0.0971 - 29ms/epoch - 14ms/step\n",
            "Epoch 65/100\n",
            "2/2 - 0s - loss: 0.0200 - mse: 0.0200 - mae: 0.1066 - val_loss: 0.0141 - val_mse: 0.0141 - val_mae: 0.0966 - 27ms/epoch - 13ms/step\n",
            "Epoch 66/100\n",
            "2/2 - 0s - loss: 0.0202 - mse: 0.0202 - mae: 0.1066 - val_loss: 0.0142 - val_mse: 0.0142 - val_mae: 0.0963 - 24ms/epoch - 12ms/step\n",
            "Epoch 67/100\n",
            "2/2 - 0s - loss: 0.0200 - mse: 0.0200 - mae: 0.1062 - val_loss: 0.0143 - val_mse: 0.0143 - val_mae: 0.0979 - 25ms/epoch - 13ms/step\n",
            "Epoch 68/100\n",
            "2/2 - 0s - loss: 0.0199 - mse: 0.0199 - mae: 0.1062 - val_loss: 0.0146 - val_mse: 0.0146 - val_mae: 0.1004 - 24ms/epoch - 12ms/step\n",
            "Epoch 69/100\n",
            "2/2 - 0s - loss: 0.0198 - mse: 0.0198 - mae: 0.1072 - val_loss: 0.0150 - val_mse: 0.0150 - val_mae: 0.1027 - 26ms/epoch - 13ms/step\n",
            "Epoch 70/100\n",
            "2/2 - 0s - loss: 0.0198 - mse: 0.0198 - mae: 0.1075 - val_loss: 0.0151 - val_mse: 0.0151 - val_mae: 0.1032 - 31ms/epoch - 15ms/step\n",
            "Epoch 71/100\n",
            "2/2 - 0s - loss: 0.0202 - mse: 0.0202 - mae: 0.1090 - val_loss: 0.0155 - val_mse: 0.0155 - val_mae: 0.1052 - 43ms/epoch - 21ms/step\n",
            "Epoch 72/100\n",
            "2/2 - 0s - loss: 0.0199 - mse: 0.0199 - mae: 0.1084 - val_loss: 0.0150 - val_mse: 0.0150 - val_mae: 0.1026 - 23ms/epoch - 12ms/step\n",
            "Epoch 73/100\n",
            "2/2 - 0s - loss: 0.0197 - mse: 0.0197 - mae: 0.1067 - val_loss: 0.0148 - val_mse: 0.0148 - val_mae: 0.1009 - 23ms/epoch - 12ms/step\n",
            "Epoch 74/100\n",
            "2/2 - 0s - loss: 0.0198 - mse: 0.0198 - mae: 0.1061 - val_loss: 0.0144 - val_mse: 0.0144 - val_mae: 0.0981 - 23ms/epoch - 11ms/step\n",
            "Epoch 75/100\n",
            "2/2 - 0s - loss: 0.0197 - mse: 0.0197 - mae: 0.1048 - val_loss: 0.0145 - val_mse: 0.0145 - val_mae: 0.0983 - 26ms/epoch - 13ms/step\n",
            "Epoch 76/100\n",
            "2/2 - 0s - loss: 0.0195 - mse: 0.0195 - mae: 0.1043 - val_loss: 0.0144 - val_mse: 0.0144 - val_mae: 0.0977 - 22ms/epoch - 11ms/step\n",
            "Epoch 77/100\n",
            "2/2 - 0s - loss: 0.0196 - mse: 0.0196 - mae: 0.1041 - val_loss: 0.0143 - val_mse: 0.0143 - val_mae: 0.0969 - 24ms/epoch - 12ms/step\n",
            "Epoch 78/100\n",
            "2/2 - 0s - loss: 0.0195 - mse: 0.0195 - mae: 0.1040 - val_loss: 0.0145 - val_mse: 0.0145 - val_mae: 0.0985 - 28ms/epoch - 14ms/step\n",
            "Epoch 79/100\n",
            "2/2 - 0s - loss: 0.0194 - mse: 0.0194 - mae: 0.1042 - val_loss: 0.0147 - val_mse: 0.0147 - val_mae: 0.1001 - 22ms/epoch - 11ms/step\n",
            "Epoch 80/100\n",
            "2/2 - 0s - loss: 0.0194 - mse: 0.0194 - mae: 0.1048 - val_loss: 0.0148 - val_mse: 0.0148 - val_mae: 0.1010 - 29ms/epoch - 14ms/step\n",
            "Epoch 81/100\n",
            "2/2 - 0s - loss: 0.0194 - mse: 0.0194 - mae: 0.1054 - val_loss: 0.0149 - val_mse: 0.0149 - val_mae: 0.1012 - 23ms/epoch - 11ms/step\n",
            "Epoch 82/100\n",
            "2/2 - 0s - loss: 0.0193 - mse: 0.0193 - mae: 0.1049 - val_loss: 0.0147 - val_mse: 0.0147 - val_mae: 0.0999 - 24ms/epoch - 12ms/step\n",
            "Epoch 83/100\n",
            "2/2 - 0s - loss: 0.0194 - mse: 0.0194 - mae: 0.1042 - val_loss: 0.0144 - val_mse: 0.0144 - val_mae: 0.0973 - 22ms/epoch - 11ms/step\n",
            "Epoch 84/100\n",
            "2/2 - 0s - loss: 0.0192 - mse: 0.0192 - mae: 0.1030 - val_loss: 0.0144 - val_mse: 0.0144 - val_mae: 0.0971 - 23ms/epoch - 11ms/step\n",
            "Epoch 85/100\n",
            "2/2 - 0s - loss: 0.0193 - mse: 0.0193 - mae: 0.1032 - val_loss: 0.0146 - val_mse: 0.0146 - val_mae: 0.0982 - 24ms/epoch - 12ms/step\n",
            "Epoch 86/100\n",
            "2/2 - 0s - loss: 0.0192 - mse: 0.0192 - mae: 0.1029 - val_loss: 0.0145 - val_mse: 0.0145 - val_mae: 0.0981 - 27ms/epoch - 14ms/step\n",
            "Epoch 87/100\n",
            "2/2 - 0s - loss: 0.0191 - mse: 0.0191 - mae: 0.1028 - val_loss: 0.0146 - val_mse: 0.0146 - val_mae: 0.0987 - 23ms/epoch - 11ms/step\n",
            "Epoch 88/100\n",
            "2/2 - 0s - loss: 0.0190 - mse: 0.0190 - mae: 0.1029 - val_loss: 0.0148 - val_mse: 0.0148 - val_mae: 0.1002 - 23ms/epoch - 12ms/step\n",
            "Epoch 89/100\n",
            "2/2 - 0s - loss: 0.0190 - mse: 0.0190 - mae: 0.1038 - val_loss: 0.0151 - val_mse: 0.0151 - val_mae: 0.1020 - 26ms/epoch - 13ms/step\n",
            "Epoch 90/100\n",
            "2/2 - 0s - loss: 0.0190 - mse: 0.0190 - mae: 0.1044 - val_loss: 0.0151 - val_mse: 0.0151 - val_mae: 0.1024 - 23ms/epoch - 12ms/step\n",
            "Epoch 91/100\n",
            "2/2 - 0s - loss: 0.0191 - mse: 0.0191 - mae: 0.1051 - val_loss: 0.0153 - val_mse: 0.0153 - val_mae: 0.1039 - 23ms/epoch - 11ms/step\n",
            "Epoch 92/100\n",
            "2/2 - 0s - loss: 0.0190 - mse: 0.0190 - mae: 0.1047 - val_loss: 0.0150 - val_mse: 0.0150 - val_mae: 0.1017 - 23ms/epoch - 11ms/step\n",
            "Epoch 93/100\n",
            "2/2 - 0s - loss: 0.0191 - mse: 0.0191 - mae: 0.1038 - val_loss: 0.0146 - val_mse: 0.0146 - val_mae: 0.0989 - 24ms/epoch - 12ms/step\n",
            "Epoch 94/100\n",
            "2/2 - 0s - loss: 0.0193 - mse: 0.0193 - mae: 0.1036 - val_loss: 0.0144 - val_mse: 0.0144 - val_mae: 0.0969 - 43ms/epoch - 21ms/step\n",
            "Epoch 95/100\n",
            "2/2 - 0s - loss: 0.0189 - mse: 0.0189 - mae: 0.1021 - val_loss: 0.0147 - val_mse: 0.0147 - val_mae: 0.0991 - 23ms/epoch - 12ms/step\n",
            "Epoch 96/100\n",
            "2/2 - 0s - loss: 0.0187 - mse: 0.0187 - mae: 0.1025 - val_loss: 0.0148 - val_mse: 0.0148 - val_mae: 0.1002 - 23ms/epoch - 11ms/step\n",
            "Epoch 97/100\n",
            "2/2 - 0s - loss: 0.0187 - mse: 0.0187 - mae: 0.1030 - val_loss: 0.0149 - val_mse: 0.0149 - val_mae: 0.1009 - 32ms/epoch - 16ms/step\n",
            "Epoch 98/100\n",
            "2/2 - 0s - loss: 0.0187 - mse: 0.0187 - mae: 0.1029 - val_loss: 0.0148 - val_mse: 0.0148 - val_mae: 0.1003 - 36ms/epoch - 18ms/step\n",
            "Epoch 99/100\n",
            "2/2 - 0s - loss: 0.0186 - mse: 0.0186 - mae: 0.1026 - val_loss: 0.0148 - val_mse: 0.0148 - val_mae: 0.1001 - 23ms/epoch - 12ms/step\n",
            "Epoch 100/100\n",
            "2/2 - 0s - loss: 0.0186 - mse: 0.0186 - mae: 0.1022 - val_loss: 0.0147 - val_mse: 0.0147 - val_mae: 0.0990 - 22ms/epoch - 11ms/step\n"
          ]
        },
        {
          "output_type": "display_data",
          "data": {
            "text/plain": [
              "<Figure size 432x288 with 1 Axes>"
            ],
            "image/png": "[encoded data removed]"
          },
          "metadata": {
            "needs_background": "light"
          }
        }
      ]
    },
    {
      "cell_type": "code",
      "source": [
        "print(model1.summary())"
      ],
      "metadata": {
        "colab": {
          "base_uri": "https://localhost:8080/"
        },
        "id": "Mmp60PqstOZQ",
        "outputId": "ff391084-a802-4a37-ff2a-2ffdb1025927"
      },
      "execution_count": 44,
      "outputs": [
        {
          "output_type": "stream",
          "name": "stdout",
          "text": [
            "Model: \"sequential\"\n",
            "_________________________________________________________________\n",
            " Layer (type)                Output Shape              Param #   \n",
            "=================================================================\n",
            " dense (Dense)               (None, 4)                 20        \n",
            "                                                                 \n",
            " dense_1 (Dense)             (None, 100)               500       \n",
            "                                                                 \n",
            " dense_2 (Dense)             (None, 1)                 101       \n",
            "                                                                 \n",
            "=================================================================\n",
            "Total params: 621\n",
            "Trainable params: 621\n",
            "Non-trainable params: 0\n",
            "_________________________________________________________________\n",
            "None\n"
          ]
        }
      ]
    },
    {
      "cell_type": "code",
      "source": [
        "model1.evaluate(X_test1_sc, y_test1)"
      ],
      "metadata": {
        "colab": {
          "base_uri": "https://localhost:8080/"
        },
        "id": "03sO0iir6qU-",
        "outputId": "2301baf5-794a-482b-c196-069eeb1c8295"
      },
      "execution_count": 45,
      "outputs": [
        {
          "output_type": "stream",
          "name": "stdout",
          "text": [
            "1/1 [==============================] - 0s 18ms/step - loss: 0.0147 - mse: 0.0147 - mae: 0.0990\n"
          ]
        },
        {
          "output_type": "execute_result",
          "data": {
            "text/plain": [
              "[0.014652317389845848, 0.014652317389845848, 0.09902477264404297]"
            ]
          },
          "metadata": {},
          "execution_count": 45
        }
      ]
    },
    {
      "cell_type": "code",
      "source": [
        "y_pred1 = model1.predict(X_test1_sc)"
      ],
      "metadata": {
        "colab": {
          "base_uri": "https://localhost:8080/"
        },
        "id": "zs4wlmgLE9mK",
        "outputId": "eb9d4181-a905-4853-b48e-2ac801f5ac4d"
      },
      "execution_count": 46,
      "outputs": [
        {
          "output_type": "stream",
          "name": "stdout",
          "text": [
            "1/1 [==============================] - 0s 80ms/step\n"
          ]
        }
      ]
    },
    {
      "cell_type": "code",
      "source": [
        "keras_mae1 = mae(y_test1, y_pred1)\n",
        "keras_mse1 = mse(y_test1, y_pred1)\n",
        "\n",
        "print(keras_mae1)\n",
        "print(keras_mse1)"
      ],
      "metadata": {
        "id": "G1Npmjn_pumi",
        "colab": {
          "base_uri": "https://localhost:8080/"
        },
        "outputId": "9c495d48-8000-487b-9476-60c07171f554"
      },
      "execution_count": 47,
      "outputs": [
        {
          "output_type": "stream",
          "name": "stdout",
          "text": [
            "0.09902476612726847\n",
            "0.014652316775126498\n"
          ]
        }
      ]
    },
    {
      "cell_type": "markdown",
      "source": [
        "Показатели средние, возможно, из-за небольшого количества данных."
      ],
      "metadata": {
        "id": "opKRcxSq7n65"
      }
    },
    {
      "cell_type": "code",
      "source": [
        "#для целевой переменной \"ширина\"\n",
        "model2 = Sequential()\n",
        "model2.add(Dense(X_train2_sc.shape[1], input_dim = X_train2_sc.shape[1], activation='linear'))\n",
        "model2.add(Dense(100))\n",
        "model2.add(Dense(1, activation='relu'))\n",
        "model2.compile(loss='mse', optimizer=\"adam\", metrics=['mse', 'mae'])\n",
        "history = model2.fit(X_train2_sc, y_train2,\n",
        "                    epochs=100,\n",
        "                    verbose=2,\n",
        "                    validation_data=(X_test2_sc, y_test2))\n",
        "\n",
        "plt.plot(history.history['loss'],label='loss')\n",
        "plt.plot(history.history['val_loss'], label='val_loss')\n",
        "plt.xlabel(\"Epochs\")\n",
        "plt.ylabel(\"Error\")\n",
        "plt.legend()\n",
        "plt.show()"
      ],
      "metadata": {
        "id": "04jZAJFjtOVb",
        "colab": {
          "base_uri": "https://localhost:8080/",
          "height": 1000
        },
        "outputId": "d089d7fc-555a-4067-f97c-e393f3632801"
      },
      "execution_count": 48,
      "outputs": [
        {
          "output_type": "stream",
          "name": "stdout",
          "text": [
            "Epoch 1/100\n",
            "2/2 - 1s - loss: 3.3889 - mse: 3.3889 - mae: 1.8006 - val_loss: 3.5713 - val_mse: 3.5713 - val_mae: 1.8510 - 625ms/epoch - 313ms/step\n",
            "Epoch 2/100\n",
            "2/2 - 0s - loss: 3.1289 - mse: 3.1289 - mae: 1.7189 - val_loss: 3.2679 - val_mse: 3.2679 - val_mae: 1.7651 - 28ms/epoch - 14ms/step\n",
            "Epoch 3/100\n",
            "2/2 - 0s - loss: 2.8955 - mse: 2.8955 - mae: 1.6422 - val_loss: 2.9894 - val_mse: 2.9894 - val_mae: 1.6792 - 23ms/epoch - 11ms/step\n",
            "Epoch 4/100\n",
            "2/2 - 0s - loss: 2.6692 - mse: 2.6692 - mae: 1.5567 - val_loss: 2.7387 - val_mse: 2.7387 - val_mae: 1.5943 - 23ms/epoch - 12ms/step\n",
            "Epoch 5/100\n",
            "2/2 - 0s - loss: 2.4858 - mse: 2.4858 - mae: 1.4767 - val_loss: 2.5130 - val_mse: 2.5130 - val_mae: 1.5102 - 24ms/epoch - 12ms/step\n",
            "Epoch 6/100\n",
            "2/2 - 0s - loss: 2.3111 - mse: 2.3111 - mae: 1.3926 - val_loss: 2.3152 - val_mse: 2.3152 - val_mae: 1.4281 - 29ms/epoch - 14ms/step\n",
            "Epoch 7/100\n",
            "2/2 - 0s - loss: 2.1812 - mse: 2.1812 - mae: 1.3244 - val_loss: 2.1420 - val_mse: 2.1420 - val_mae: 1.3473 - 21ms/epoch - 11ms/step\n",
            "Epoch 8/100\n",
            "2/2 - 0s - loss: 2.0661 - mse: 2.0661 - mae: 1.2769 - val_loss: 1.9951 - val_mse: 1.9951 - val_mae: 1.2694 - 22ms/epoch - 11ms/step\n",
            "Epoch 9/100\n",
            "2/2 - 0s - loss: 1.9775 - mse: 1.9775 - mae: 1.2334 - val_loss: 1.8724 - val_mse: 1.8724 - val_mae: 1.1948 - 27ms/epoch - 14ms/step\n",
            "Epoch 10/100\n",
            "2/2 - 0s - loss: 1.9152 - mse: 1.9152 - mae: 1.1915 - val_loss: 1.7719 - val_mse: 1.7719 - val_mae: 1.1245 - 30ms/epoch - 15ms/step\n",
            "Epoch 11/100\n",
            "2/2 - 0s - loss: 1.8585 - mse: 1.8585 - mae: 1.1526 - val_loss: 1.6935 - val_mse: 1.6935 - val_mae: 1.0605 - 24ms/epoch - 12ms/step\n",
            "Epoch 12/100\n",
            "2/2 - 0s - loss: 1.8309 - mse: 1.8309 - mae: 1.1271 - val_loss: 1.6321 - val_mse: 1.6321 - val_mae: 1.0024 - 24ms/epoch - 12ms/step\n",
            "Epoch 13/100\n",
            "2/2 - 0s - loss: 1.8023 - mse: 1.8023 - mae: 1.1088 - val_loss: 1.5866 - val_mse: 1.5866 - val_mae: 0.9590 - 43ms/epoch - 21ms/step\n",
            "Epoch 14/100\n",
            "2/2 - 0s - loss: 1.7795 - mse: 1.7795 - mae: 1.0893 - val_loss: 1.5534 - val_mse: 1.5534 - val_mae: 0.9314 - 23ms/epoch - 12ms/step\n",
            "Epoch 15/100\n",
            "2/2 - 0s - loss: 1.7669 - mse: 1.7669 - mae: 1.0778 - val_loss: 1.5286 - val_mse: 1.5286 - val_mae: 0.9066 - 23ms/epoch - 11ms/step\n",
            "Epoch 16/100\n",
            "2/2 - 0s - loss: 1.7542 - mse: 1.7542 - mae: 1.0667 - val_loss: 1.5108 - val_mse: 1.5108 - val_mae: 0.8859 - 23ms/epoch - 11ms/step\n",
            "Epoch 17/100\n",
            "2/2 - 0s - loss: 1.7414 - mse: 1.7414 - mae: 1.0613 - val_loss: 1.4981 - val_mse: 1.4981 - val_mae: 0.8738 - 27ms/epoch - 13ms/step\n",
            "Epoch 18/100\n",
            "2/2 - 0s - loss: 1.7296 - mse: 1.7296 - mae: 1.0537 - val_loss: 1.4895 - val_mse: 1.4895 - val_mae: 0.8617 - 25ms/epoch - 13ms/step\n",
            "Epoch 19/100\n",
            "2/2 - 0s - loss: 1.7173 - mse: 1.7173 - mae: 1.0454 - val_loss: 1.4840 - val_mse: 1.4840 - val_mae: 0.8499 - 24ms/epoch - 12ms/step\n",
            "Epoch 20/100\n",
            "2/2 - 0s - loss: 1.7036 - mse: 1.7036 - mae: 1.0340 - val_loss: 1.4809 - val_mse: 1.4809 - val_mae: 0.8392 - 23ms/epoch - 12ms/step\n",
            "Epoch 21/100\n",
            "2/2 - 0s - loss: 1.6943 - mse: 1.6943 - mae: 1.0255 - val_loss: 1.4798 - val_mse: 1.4798 - val_mae: 0.8331 - 24ms/epoch - 12ms/step\n",
            "Epoch 22/100\n",
            "2/2 - 0s - loss: 1.6839 - mse: 1.6839 - mae: 1.0179 - val_loss: 1.4803 - val_mse: 1.4803 - val_mae: 0.8349 - 28ms/epoch - 14ms/step\n",
            "Epoch 23/100\n",
            "2/2 - 0s - loss: 1.6728 - mse: 1.6728 - mae: 1.0087 - val_loss: 1.4817 - val_mse: 1.4817 - val_mae: 0.8381 - 22ms/epoch - 11ms/step\n",
            "Epoch 24/100\n",
            "2/2 - 0s - loss: 1.6667 - mse: 1.6667 - mae: 1.0031 - val_loss: 1.4839 - val_mse: 1.4839 - val_mae: 0.8422 - 22ms/epoch - 11ms/step\n",
            "Epoch 25/100\n",
            "2/2 - 0s - loss: 1.6611 - mse: 1.6611 - mae: 1.0002 - val_loss: 1.4866 - val_mse: 1.4866 - val_mae: 0.8470 - 23ms/epoch - 12ms/step\n",
            "Epoch 26/100\n",
            "2/2 - 0s - loss: 1.6564 - mse: 1.6564 - mae: 0.9980 - val_loss: 1.4893 - val_mse: 1.4893 - val_mae: 0.8554 - 36ms/epoch - 18ms/step\n",
            "Epoch 27/100\n",
            "2/2 - 0s - loss: 1.6514 - mse: 1.6514 - mae: 0.9980 - val_loss: 1.4916 - val_mse: 1.4916 - val_mae: 0.8615 - 24ms/epoch - 12ms/step\n",
            "Epoch 28/100\n",
            "2/2 - 0s - loss: 1.6478 - mse: 1.6478 - mae: 0.9984 - val_loss: 1.4933 - val_mse: 1.4933 - val_mae: 0.8668 - 26ms/epoch - 13ms/step\n",
            "Epoch 29/100\n",
            "2/2 - 0s - loss: 1.6438 - mse: 1.6438 - mae: 0.9978 - val_loss: 1.4943 - val_mse: 1.4943 - val_mae: 0.8707 - 24ms/epoch - 12ms/step\n",
            "Epoch 30/100\n",
            "2/2 - 0s - loss: 1.6400 - mse: 1.6400 - mae: 0.9973 - val_loss: 1.4948 - val_mse: 1.4948 - val_mae: 0.8731 - 27ms/epoch - 13ms/step\n",
            "Epoch 31/100\n",
            "2/2 - 0s - loss: 1.6361 - mse: 1.6361 - mae: 0.9960 - val_loss: 1.4948 - val_mse: 1.4948 - val_mae: 0.8744 - 24ms/epoch - 12ms/step\n",
            "Epoch 32/100\n",
            "2/2 - 0s - loss: 1.6320 - mse: 1.6320 - mae: 0.9941 - val_loss: 1.4944 - val_mse: 1.4944 - val_mae: 0.8746 - 22ms/epoch - 11ms/step\n",
            "Epoch 33/100\n",
            "2/2 - 0s - loss: 1.6283 - mse: 1.6283 - mae: 0.9916 - val_loss: 1.4934 - val_mse: 1.4934 - val_mae: 0.8732 - 21ms/epoch - 11ms/step\n",
            "Epoch 34/100\n",
            "2/2 - 0s - loss: 1.6240 - mse: 1.6240 - mae: 0.9884 - val_loss: 1.4922 - val_mse: 1.4922 - val_mae: 0.8711 - 22ms/epoch - 11ms/step\n",
            "Epoch 35/100\n",
            "2/2 - 0s - loss: 1.6198 - mse: 1.6198 - mae: 0.9846 - val_loss: 1.4908 - val_mse: 1.4908 - val_mae: 0.8683 - 22ms/epoch - 11ms/step\n",
            "Epoch 36/100\n",
            "2/2 - 0s - loss: 1.6160 - mse: 1.6160 - mae: 0.9810 - val_loss: 1.4894 - val_mse: 1.4894 - val_mae: 0.8650 - 43ms/epoch - 21ms/step\n",
            "Epoch 37/100\n",
            "2/2 - 0s - loss: 1.6111 - mse: 1.6111 - mae: 0.9764 - val_loss: 1.4882 - val_mse: 1.4882 - val_mae: 0.8620 - 23ms/epoch - 12ms/step\n",
            "Epoch 38/100\n",
            "2/2 - 0s - loss: 1.6069 - mse: 1.6069 - mae: 0.9723 - val_loss: 1.4868 - val_mse: 1.4868 - val_mae: 0.8585 - 23ms/epoch - 12ms/step\n",
            "Epoch 39/100\n",
            "2/2 - 0s - loss: 1.6031 - mse: 1.6031 - mae: 0.9685 - val_loss: 1.4855 - val_mse: 1.4855 - val_mae: 0.8549 - 23ms/epoch - 12ms/step\n",
            "Epoch 40/100\n",
            "2/2 - 0s - loss: 1.5996 - mse: 1.5996 - mae: 0.9643 - val_loss: 1.4843 - val_mse: 1.4843 - val_mae: 0.8513 - 23ms/epoch - 12ms/step\n",
            "Epoch 41/100\n",
            "2/2 - 0s - loss: 1.5960 - mse: 1.5960 - mae: 0.9605 - val_loss: 1.4831 - val_mse: 1.4831 - val_mae: 0.8478 - 25ms/epoch - 13ms/step\n",
            "Epoch 42/100\n",
            "2/2 - 0s - loss: 1.5920 - mse: 1.5920 - mae: 0.9562 - val_loss: 1.4822 - val_mse: 1.4822 - val_mae: 0.8448 - 25ms/epoch - 12ms/step\n",
            "Epoch 43/100\n",
            "2/2 - 0s - loss: 1.5885 - mse: 1.5885 - mae: 0.9528 - val_loss: 1.4815 - val_mse: 1.4815 - val_mae: 0.8420 - 24ms/epoch - 12ms/step\n",
            "Epoch 44/100\n",
            "2/2 - 0s - loss: 1.5851 - mse: 1.5851 - mae: 0.9494 - val_loss: 1.4807 - val_mse: 1.4807 - val_mae: 0.8390 - 25ms/epoch - 13ms/step\n",
            "Epoch 45/100\n",
            "2/2 - 0s - loss: 1.5780 - mse: 1.5780 - mae: 0.9447 - val_loss: 1.4799 - val_mse: 1.4799 - val_mae: 0.8355 - 24ms/epoch - 12ms/step\n",
            "Epoch 46/100\n",
            "2/2 - 0s - loss: 1.5682 - mse: 1.5682 - mae: 0.9390 - val_loss: 1.4790 - val_mse: 1.4790 - val_mae: 0.8310 - 24ms/epoch - 12ms/step\n",
            "Epoch 47/100\n",
            "2/2 - 0s - loss: 1.5542 - mse: 1.5542 - mae: 0.9314 - val_loss: 1.4783 - val_mse: 1.4783 - val_mae: 0.8257 - 22ms/epoch - 11ms/step\n",
            "Epoch 48/100\n",
            "2/2 - 0s - loss: 1.5312 - mse: 1.5312 - mae: 0.9215 - val_loss: 1.4779 - val_mse: 1.4779 - val_mae: 0.8223 - 24ms/epoch - 12ms/step\n",
            "Epoch 49/100\n",
            "2/2 - 0s - loss: 1.4999 - mse: 1.4999 - mae: 0.9094 - val_loss: 1.4660 - val_mse: 1.4660 - val_mae: 0.8186 - 22ms/epoch - 11ms/step\n",
            "Epoch 50/100\n",
            "2/2 - 0s - loss: 1.4600 - mse: 1.4600 - mae: 0.8964 - val_loss: 1.4511 - val_mse: 1.4511 - val_mae: 0.8211 - 34ms/epoch - 17ms/step\n",
            "Epoch 51/100\n",
            "2/2 - 0s - loss: 1.4104 - mse: 1.4104 - mae: 0.8802 - val_loss: 1.4364 - val_mse: 1.4364 - val_mae: 0.8287 - 25ms/epoch - 12ms/step\n",
            "Epoch 52/100\n",
            "2/2 - 0s - loss: 1.3625 - mse: 1.3625 - mae: 0.8649 - val_loss: 1.4220 - val_mse: 1.4220 - val_mae: 0.8359 - 23ms/epoch - 11ms/step\n",
            "Epoch 53/100\n",
            "2/2 - 0s - loss: 1.3222 - mse: 1.3222 - mae: 0.8550 - val_loss: 1.4082 - val_mse: 1.4082 - val_mae: 0.8424 - 23ms/epoch - 11ms/step\n",
            "Epoch 54/100\n",
            "2/2 - 0s - loss: 1.2686 - mse: 1.2686 - mae: 0.8393 - val_loss: 1.3954 - val_mse: 1.3954 - val_mae: 0.8459 - 23ms/epoch - 11ms/step\n",
            "Epoch 55/100\n",
            "2/2 - 0s - loss: 1.2296 - mse: 1.2296 - mae: 0.8262 - val_loss: 1.3829 - val_mse: 1.3829 - val_mae: 0.8467 - 22ms/epoch - 11ms/step\n",
            "Epoch 56/100\n",
            "2/2 - 0s - loss: 1.1834 - mse: 1.1834 - mae: 0.8067 - val_loss: 1.3624 - val_mse: 1.3624 - val_mae: 0.8411 - 23ms/epoch - 12ms/step\n",
            "Epoch 57/100\n",
            "2/2 - 0s - loss: 1.1374 - mse: 1.1374 - mae: 0.7857 - val_loss: 1.3224 - val_mse: 1.3224 - val_mae: 0.8309 - 21ms/epoch - 10ms/step\n",
            "Epoch 58/100\n",
            "2/2 - 0s - loss: 1.0761 - mse: 1.0761 - mae: 0.7591 - val_loss: 1.2844 - val_mse: 1.2844 - val_mae: 0.8206 - 22ms/epoch - 11ms/step\n",
            "Epoch 59/100\n",
            "2/2 - 0s - loss: 1.0035 - mse: 1.0035 - mae: 0.7288 - val_loss: 1.2342 - val_mse: 1.2342 - val_mae: 0.8105 - 25ms/epoch - 12ms/step\n",
            "Epoch 60/100\n",
            "2/2 - 0s - loss: 0.8751 - mse: 0.8751 - mae: 0.6894 - val_loss: 1.0808 - val_mse: 1.0808 - val_mae: 0.7802 - 23ms/epoch - 11ms/step\n",
            "Epoch 61/100\n",
            "2/2 - 0s - loss: 0.7138 - mse: 0.7138 - mae: 0.6489 - val_loss: 0.7549 - val_mse: 0.7549 - val_mae: 0.6978 - 29ms/epoch - 15ms/step\n",
            "Epoch 62/100\n",
            "2/2 - 0s - loss: 0.5022 - mse: 0.5022 - mae: 0.5990 - val_loss: 0.4840 - val_mse: 0.4840 - val_mae: 0.6067 - 26ms/epoch - 13ms/step\n",
            "Epoch 63/100\n",
            "2/2 - 0s - loss: 0.3811 - mse: 0.3811 - mae: 0.5604 - val_loss: 0.3004 - val_mse: 0.3004 - val_mae: 0.5125 - 22ms/epoch - 11ms/step\n",
            "Epoch 64/100\n",
            "2/2 - 0s - loss: 0.2788 - mse: 0.2788 - mae: 0.4985 - val_loss: 0.2079 - val_mse: 0.2079 - val_mae: 0.4232 - 23ms/epoch - 11ms/step\n",
            "Epoch 65/100\n",
            "2/2 - 0s - loss: 0.2358 - mse: 0.2358 - mae: 0.4414 - val_loss: 0.1653 - val_mse: 0.1653 - val_mae: 0.3423 - 23ms/epoch - 11ms/step\n",
            "Epoch 66/100\n",
            "2/2 - 0s - loss: 0.2145 - mse: 0.2145 - mae: 0.3877 - val_loss: 0.1379 - val_mse: 0.1379 - val_mae: 0.2827 - 23ms/epoch - 11ms/step\n",
            "Epoch 67/100\n",
            "2/2 - 0s - loss: 0.1831 - mse: 0.1831 - mae: 0.3484 - val_loss: 0.1063 - val_mse: 0.1063 - val_mae: 0.2378 - 22ms/epoch - 11ms/step\n",
            "Epoch 68/100\n",
            "2/2 - 0s - loss: 0.1399 - mse: 0.1399 - mae: 0.2990 - val_loss: 0.0718 - val_mse: 0.0718 - val_mae: 0.1842 - 22ms/epoch - 11ms/step\n",
            "Epoch 69/100\n",
            "2/2 - 0s - loss: 0.0970 - mse: 0.0970 - mae: 0.2429 - val_loss: 0.0461 - val_mse: 0.0461 - val_mae: 0.1632 - 22ms/epoch - 11ms/step\n",
            "Epoch 70/100\n",
            "2/2 - 0s - loss: 0.0619 - mse: 0.0619 - mae: 0.1967 - val_loss: 0.0370 - val_mse: 0.0370 - val_mae: 0.1721 - 28ms/epoch - 14ms/step\n",
            "Epoch 71/100\n",
            "2/2 - 0s - loss: 0.0420 - mse: 0.0420 - mae: 0.1772 - val_loss: 0.0434 - val_mse: 0.0434 - val_mae: 0.1832 - 26ms/epoch - 13ms/step\n",
            "Epoch 72/100\n",
            "2/2 - 0s - loss: 0.0352 - mse: 0.0352 - mae: 0.1617 - val_loss: 0.0562 - val_mse: 0.0562 - val_mae: 0.2053 - 25ms/epoch - 13ms/step\n",
            "Epoch 73/100\n",
            "2/2 - 0s - loss: 0.0390 - mse: 0.0390 - mae: 0.1628 - val_loss: 0.0658 - val_mse: 0.0658 - val_mae: 0.2251 - 23ms/epoch - 11ms/step\n",
            "Epoch 74/100\n",
            "2/2 - 0s - loss: 0.0437 - mse: 0.0437 - mae: 0.1645 - val_loss: 0.0674 - val_mse: 0.0674 - val_mae: 0.2280 - 23ms/epoch - 11ms/step\n",
            "Epoch 75/100\n",
            "2/2 - 0s - loss: 0.0455 - mse: 0.0455 - mae: 0.1679 - val_loss: 0.0623 - val_mse: 0.0623 - val_mae: 0.2195 - 23ms/epoch - 11ms/step\n",
            "Epoch 76/100\n",
            "2/2 - 0s - loss: 0.0432 - mse: 0.0432 - mae: 0.1668 - val_loss: 0.0534 - val_mse: 0.0534 - val_mae: 0.2048 - 25ms/epoch - 13ms/step\n",
            "Epoch 77/100\n",
            "2/2 - 0s - loss: 0.0399 - mse: 0.0399 - mae: 0.1614 - val_loss: 0.0440 - val_mse: 0.0440 - val_mae: 0.1834 - 23ms/epoch - 12ms/step\n",
            "Epoch 78/100\n",
            "2/2 - 0s - loss: 0.0364 - mse: 0.0364 - mae: 0.1568 - val_loss: 0.0375 - val_mse: 0.0375 - val_mae: 0.1634 - 23ms/epoch - 11ms/step\n",
            "Epoch 79/100\n",
            "2/2 - 0s - loss: 0.0348 - mse: 0.0348 - mae: 0.1532 - val_loss: 0.0340 - val_mse: 0.0340 - val_mae: 0.1495 - 23ms/epoch - 11ms/step\n",
            "Epoch 80/100\n",
            "2/2 - 0s - loss: 0.0341 - mse: 0.0341 - mae: 0.1535 - val_loss: 0.0323 - val_mse: 0.0323 - val_mae: 0.1430 - 23ms/epoch - 12ms/step\n",
            "Epoch 81/100\n",
            "2/2 - 0s - loss: 0.0341 - mse: 0.0341 - mae: 0.1541 - val_loss: 0.0307 - val_mse: 0.0307 - val_mae: 0.1396 - 22ms/epoch - 11ms/step\n",
            "Epoch 82/100\n",
            "2/2 - 0s - loss: 0.0330 - mse: 0.0330 - mae: 0.1516 - val_loss: 0.0287 - val_mse: 0.0287 - val_mae: 0.1339 - 23ms/epoch - 11ms/step\n",
            "Epoch 83/100\n",
            "2/2 - 0s - loss: 0.0310 - mse: 0.0310 - mae: 0.1467 - val_loss: 0.0265 - val_mse: 0.0265 - val_mae: 0.1270 - 22ms/epoch - 11ms/step\n",
            "Epoch 84/100\n",
            "2/2 - 0s - loss: 0.0287 - mse: 0.0287 - mae: 0.1412 - val_loss: 0.0248 - val_mse: 0.0248 - val_mae: 0.1273 - 23ms/epoch - 11ms/step\n",
            "Epoch 85/100\n",
            "2/2 - 0s - loss: 0.0264 - mse: 0.0264 - mae: 0.1355 - val_loss: 0.0241 - val_mse: 0.0241 - val_mae: 0.1288 - 44ms/epoch - 22ms/step\n",
            "Epoch 86/100\n",
            "2/2 - 0s - loss: 0.0249 - mse: 0.0249 - mae: 0.1343 - val_loss: 0.0243 - val_mse: 0.0243 - val_mae: 0.1322 - 25ms/epoch - 12ms/step\n",
            "Epoch 87/100\n",
            "2/2 - 0s - loss: 0.0239 - mse: 0.0239 - mae: 0.1327 - val_loss: 0.0245 - val_mse: 0.0245 - val_mae: 0.1345 - 30ms/epoch - 15ms/step\n",
            "Epoch 88/100\n",
            "2/2 - 0s - loss: 0.0233 - mse: 0.0233 - mae: 0.1317 - val_loss: 0.0248 - val_mse: 0.0248 - val_mae: 0.1352 - 24ms/epoch - 12ms/step\n",
            "Epoch 89/100\n",
            "2/2 - 0s - loss: 0.0227 - mse: 0.0227 - mae: 0.1301 - val_loss: 0.0243 - val_mse: 0.0243 - val_mae: 0.1325 - 24ms/epoch - 12ms/step\n",
            "Epoch 90/100\n",
            "2/2 - 0s - loss: 0.0221 - mse: 0.0221 - mae: 0.1285 - val_loss: 0.0235 - val_mse: 0.0235 - val_mae: 0.1290 - 26ms/epoch - 13ms/step\n",
            "Epoch 91/100\n",
            "2/2 - 0s - loss: 0.0215 - mse: 0.0215 - mae: 0.1272 - val_loss: 0.0225 - val_mse: 0.0225 - val_mae: 0.1252 - 42ms/epoch - 21ms/step\n",
            "Epoch 92/100\n",
            "2/2 - 0s - loss: 0.0208 - mse: 0.0208 - mae: 0.1259 - val_loss: 0.0214 - val_mse: 0.0214 - val_mae: 0.1208 - 23ms/epoch - 11ms/step\n",
            "Epoch 93/100\n",
            "2/2 - 0s - loss: 0.0204 - mse: 0.0204 - mae: 0.1243 - val_loss: 0.0205 - val_mse: 0.0205 - val_mae: 0.1168 - 42ms/epoch - 21ms/step\n",
            "Epoch 94/100\n",
            "2/2 - 0s - loss: 0.0200 - mse: 0.0200 - mae: 0.1226 - val_loss: 0.0199 - val_mse: 0.0199 - val_mae: 0.1143 - 31ms/epoch - 16ms/step\n",
            "Epoch 95/100\n",
            "2/2 - 0s - loss: 0.0196 - mse: 0.0196 - mae: 0.1209 - val_loss: 0.0194 - val_mse: 0.0194 - val_mae: 0.1127 - 23ms/epoch - 12ms/step\n",
            "Epoch 96/100\n",
            "2/2 - 0s - loss: 0.0192 - mse: 0.0192 - mae: 0.1197 - val_loss: 0.0192 - val_mse: 0.0192 - val_mae: 0.1126 - 26ms/epoch - 13ms/step\n",
            "Epoch 97/100\n",
            "2/2 - 0s - loss: 0.0189 - mse: 0.0189 - mae: 0.1184 - val_loss: 0.0191 - val_mse: 0.0191 - val_mae: 0.1134 - 23ms/epoch - 11ms/step\n",
            "Epoch 98/100\n",
            "2/2 - 0s - loss: 0.0185 - mse: 0.0185 - mae: 0.1173 - val_loss: 0.0191 - val_mse: 0.0191 - val_mae: 0.1145 - 23ms/epoch - 11ms/step\n",
            "Epoch 99/100\n",
            "2/2 - 0s - loss: 0.0181 - mse: 0.0181 - mae: 0.1164 - val_loss: 0.0191 - val_mse: 0.0191 - val_mae: 0.1156 - 24ms/epoch - 12ms/step\n",
            "Epoch 100/100\n",
            "2/2 - 0s - loss: 0.0178 - mse: 0.0178 - mae: 0.1155 - val_loss: 0.0191 - val_mse: 0.0191 - val_mae: 0.1163 - 22ms/epoch - 11ms/step\n"
          ]
        },
        {
          "output_type": "display_data",
          "data": {
            "text/plain": [
              "<Figure size 432x288 with 1 Axes>"
            ],
            "image/png": "[encoded data removed]"
          },
          "metadata": {
            "needs_background": "light"
          }
        }
      ]
    },
    {
      "cell_type": "code",
      "source": [
        "print(model2.summary())"
      ],
      "metadata": {
        "colab": {
          "base_uri": "https://localhost:8080/"
        },
        "id": "nRIL-fYg3ux_",
        "outputId": "4c6ef5af-28eb-4e73-9412-9175fea58c8a"
      },
      "execution_count": 49,
      "outputs": [
        {
          "output_type": "stream",
          "name": "stdout",
          "text": [
            "Model: \"sequential_1\"\n",
            "_________________________________________________________________\n",
            " Layer (type)                Output Shape              Param #   \n",
            "=================================================================\n",
            " dense_3 (Dense)             (None, 4)                 20        \n",
            "                                                                 \n",
            " dense_4 (Dense)             (None, 100)               500       \n",
            "                                                                 \n",
            " dense_5 (Dense)             (None, 1)                 101       \n",
            "                                                                 \n",
            "=================================================================\n",
            "Total params: 621\n",
            "Trainable params: 621\n",
            "Non-trainable params: 0\n",
            "_________________________________________________________________\n",
            "None\n"
          ]
        }
      ]
    },
    {
      "cell_type": "code",
      "source": [
        "model2.evaluate(X_test2_sc, y_test2)"
      ],
      "metadata": {
        "colab": {
          "base_uri": "https://localhost:8080/"
        },
        "id": "IlBZ9094E9cq",
        "outputId": "2e5cd3d4-ec91-46d7-e97a-c8262c9aac0b"
      },
      "execution_count": 50,
      "outputs": [
        {
          "output_type": "stream",
          "name": "stdout",
          "text": [
            "1/1 [==============================] - 0s 23ms/step - loss: 0.0191 - mse: 0.0191 - mae: 0.1163\n"
          ]
        },
        {
          "output_type": "execute_result",
          "data": {
            "text/plain": [
              "[0.019066374748945236, 0.019066374748945236, 0.11629287153482437]"
            ]
          },
          "metadata": {},
          "execution_count": 50
        }
      ]
    },
    {
      "cell_type": "code",
      "source": [
        "y_pred2 = model2.predict(X_test2_sc)"
      ],
      "metadata": {
        "colab": {
          "base_uri": "https://localhost:8080/"
        },
        "id": "BF2ad9ZE65QD",
        "outputId": "84620d53-eed4-4004-f947-6ac73223c06f"
      },
      "execution_count": 51,
      "outputs": [
        {
          "output_type": "stream",
          "name": "stdout",
          "text": [
            "1/1 [==============================] - 0s 46ms/step\n"
          ]
        }
      ]
    },
    {
      "cell_type": "code",
      "source": [
        "keras_mae2 = mae(y_test2, y_pred2)\n",
        "keras_mse2 = mse(y_test2, y_pred2)\n",
        "\n",
        "print(keras_mae2)\n",
        "print(keras_mse2)"
      ],
      "metadata": {
        "colab": {
          "base_uri": "https://localhost:8080/"
        },
        "id": "hBeuy5aMC-TF",
        "outputId": "d176ebe8-1489-4fee-eedb-4833d2ebe05f"
      },
      "execution_count": 52,
      "outputs": [
        {
          "output_type": "stream",
          "name": "stdout",
          "text": [
            "0.11629287815093996\n",
            "0.01906637614472338\n"
          ]
        }
      ]
    },
    {
      "cell_type": "markdown",
      "source": [
        "##3.**Сравнение работы алгоритмов**"
      ],
      "metadata": {
        "id": "JdVit4YR6lrD"
      }
    },
    {
      "cell_type": "markdown",
      "source": [
        "### Целевая переменная \"глубина\""
      ],
      "metadata": {
        "id": "cVWAnsD5675r"
      }
    },
    {
      "cell_type": "code",
      "source": [
        "#для целевой переменной \"глубина\"\n",
        "plt.style.use('fivethirtyeight')\n",
        "\n",
        "# Dataframe to hold the results\n",
        "model_comparison = pd.DataFrame({'model': ['Linear Regression', 'Support Vector Machine',\n",
        "                                           'Random Forest', 'Gradient Boosting',\n",
        "                                            'K-Nearest Neighbors', 'MLPRegression', 'Neural network'],\n",
        "                                 'evaluation': [lr_evaluation1[0], svm_evaluation1[0], random_forest_evaluation1[0], \n",
        "                                         gradient_boosting_evaluation1[0], knn_evaluation1[0], mlp_ev1[0], keras_mae1]})\n",
        "\n",
        "# Horizontal bar chart of test mae\n",
        "model_comparison.sort_values('evaluation', ascending = False).plot(x = 'model', y = 'evaluation', kind = 'barh',\n",
        "                                                           color = 'blue', edgecolor = 'black')\n",
        "\n",
        "# Plot formatting\n",
        "plt.ylabel('Алгоритмы'); plt.yticks(size = 14);plt.xlabel('Средняя абсолютная ошибка'); plt.xticks(size = 14)\n",
        "plt.title('Сравнение MAE для разных моделей при целевой переменной глубины \"depth\"', size = 20);"
      ],
      "metadata": {
        "colab": {
          "base_uri": "https://localhost:8080/",
          "height": 326
        },
        "id": "VhSzKQAXocJc",
        "outputId": "7ff8292f-03d6-47ee-d8f7-e9ac2002efd1"
      },
      "execution_count": 53,
      "outputs": [
        {
          "output_type": "display_data",
          "data": {
            "text/plain": [
              "<Figure size 432x288 with 1 Axes>"
            ],
            "image/png": "[encoded data removed]"
          },
          "metadata": {}
        }
      ]
    },
    {
      "cell_type": "code",
      "source": [
        "plt.style.use('fivethirtyeight')\n",
        "\n",
        "# Dataframe to hold the results\n",
        "model_comparison = pd.DataFrame({'model': ['Linear Regression', 'Support Vector Machine',\n",
        "                                           'Random Forest', 'Gradient Boosting',\n",
        "                                            'K-Nearest Neighbors', 'MLPRegression', 'Neural network'],\n",
        "                                 'evaluation': [lr_evaluation1[1], svm_evaluation1[1], random_forest_evaluation1[1], \n",
        "                                         gradient_boosting_evaluation1[1], knn_evaluation1[1], mlp_ev2[1], keras_mse1]})\n",
        "\n",
        "# Horizontal bar chart of test mae\n",
        "model_comparison.sort_values('evaluation', ascending = False).plot(x = 'model', y = 'evaluation', kind = 'barh',\n",
        "                                                           color = 'blue', edgecolor = 'black')\n",
        "\n",
        "# Plot formatting\n",
        "plt.yticks(size = 14); plt.xlabel('Средняя квадратичная ошибка'); plt.ylabel('Алгоритмы'); plt.xticks(size = 14)\n",
        "plt.title('Сравнение MSE для разных моделей при целевой переменной глубины \"depth\"', size = 20);"
      ],
      "metadata": {
        "colab": {
          "base_uri": "https://localhost:8080/",
          "height": 326
        },
        "id": "znTh0SuKMvyS",
        "outputId": "ef778243-42b0-4a3a-96a2-74643b82df03"
      },
      "execution_count": 54,
      "outputs": [
        {
          "output_type": "display_data",
          "data": {
            "text/plain": [
              "<Figure size 432x288 with 1 Axes>"
            ],
            "image/png": "[encoded data removed]"
          },
          "metadata": {}
        }
      ]
    },
    {
      "cell_type": "markdown",
      "source": [
        "В случае с целевой переменной \"глубина\" лучшие результаты показали Метод опорных векторов и Метод k-ближайших соседей. Нейросеть идет наравне с линейной регрессией."
      ],
      "metadata": {
        "id": "VCJyjclN7644"
      }
    },
    {
      "cell_type": "markdown",
      "source": [
        "### Целевая переменная \"ширина\""
      ],
      "metadata": {
        "id": "OFGVDmYq7Azd"
      }
    },
    {
      "cell_type": "code",
      "source": [
        "plt.style.use('fivethirtyeight')\n",
        "\n",
        "# Dataframe to hold the results\n",
        "model_comparison = pd.DataFrame({'model': ['Linear Regression', 'Support Vector Machine',\n",
        "                                           'Random Forest', 'Gradient Boosting',\n",
        "                                            'K-Nearest Neighbors', 'MLPRegression', 'Neural'],\n",
        "                                 'evaluation': [lr_evaluation2[0], svm_evaluation2[0], random_forest_evaluation2[0], \n",
        "                                         gradient_boosting_evaluation2[0], knn_evaluation2[0], mlp_ev2[0], keras_mae2]})\n",
        "\n",
        "# Horizontal bar chart of test mae\n",
        "model_comparison.sort_values('evaluation', ascending = False).plot(x = 'model', y = 'evaluation', kind = 'barh',\n",
        "                                                           color = 'blue', edgecolor = 'black')\n",
        "\n",
        "# Plot formatting\n",
        "plt.yticks(size = 14); plt.xlabel('Средняя абсолютная ошибка'); plt.ylabel('Алгоритмы');  plt.xticks(size = 14)\n",
        "plt.title('Сравнение MAE для разных моделей при целевой переменной ширины \"width\"', size = 20);"
      ],
      "metadata": {
        "id": "mRmdFxoBp3GF",
        "colab": {
          "base_uri": "https://localhost:8080/",
          "height": 54
        },
        "outputId": "442a0a28-2dfe-41b3-de3e-ed4ad66d100c"
      },
      "execution_count": 55,
      "outputs": [
        {
          "output_type": "display_data",
          "data": {
            "text/plain": [
              "<Figure size 432x288 with 1 Axes>"
            ],
            "image/png": "[encoded data removed]"
          },
          "metadata": {}
        }
      ]
    },
    {
      "cell_type": "code",
      "source": [
        "plt.style.use('fivethirtyeight')\n",
        "\n",
        "# Dataframe to hold the results\n",
        "model_comparison = pd.DataFrame({'model': ['Linear Regression', 'Support Vector Machine',\n",
        "                                           'Random Forest', 'Gradient Boosting',\n",
        "                                            'K-Nearest Neighbors', 'MLPRegression', 'Neural'],\n",
        "                                 'evaluation': [lr_evaluation2[1], svm_evaluation2[1], random_forest_evaluation2[1], \n",
        "                                         gradient_boosting_evaluation2[1], knn_evaluation2[1], mlp_ev2[1], keras_mse2]})\n",
        "\n",
        "# Horizontal bar chart of test mae\n",
        "model_comparison.sort_values('evaluation', ascending = False).plot(x = 'model', y = 'evaluation', kind = 'barh',\n",
        "                                                           color = 'blue', edgecolor = 'black')\n",
        "\n",
        "# Plot formatting\n",
        "plt.yticks(size = 14); plt.xlabel('Средняя квадратичная ошибка'); plt.ylabel('Алгоритмы');  plt.xticks(size = 14)\n",
        "plt.title('Сравнение MSE для разных моделей при целевой переменной ширины \"width\"', size = 20);"
      ],
      "metadata": {
        "colab": {
          "base_uri": "https://localhost:8080/",
          "height": 54
        },
        "id": "VlIw1__jMv2f",
        "outputId": "4f32fa1b-8459-4582-ae7d-ce15a248b250"
      },
      "execution_count": 56,
      "outputs": [
        {
          "output_type": "display_data",
          "data": {
            "text/plain": [
              "<Figure size 432x288 with 1 Axes>"
            ],
            "image/png": "[encoded data removed]"
          },
          "metadata": {}
        }
      ]
    },
    {
      "cell_type": "markdown",
      "source": [
        "Что касаетс целевой переменной \"ширина\", то метод k-ближайших соседей показал наибольшую ошибку, здесь удачнее работают градиентный бустинг и случайный лес. Нейросеть показала средние результаты."
      ],
      "metadata": {
        "id": "yWoSwuQb78oN"
      }
    },
    {
      "cell_type": "markdown",
      "source": [
        "##**4. Вывод**"
      ],
      "metadata": {
        "id": "FRFgvB8o79KO"
      }
    },
    {
      "cell_type": "markdown",
      "source": [],
      "metadata": {
        "id": "GI-4UCm-8Cu_"
      }
    },
    {
      "cell_type": "code",
      "source": [],
      "metadata": {
        "id": "rrN3SevNGuJl"
      },
      "execution_count": 56,
      "outputs": []
    },
    {
      "cell_type": "markdown",
      "source": [
        "##**5.Сохранение моделей**"
      ],
      "metadata": {
        "id": "wWwv6_EvGuV1"
      }
    },
    {
      "cell_type": "markdown",
      "source": [
        "Сохранение моделей нейросети в формате h5"
      ],
      "metadata": {
        "id": "AgzNGMCERYQS"
      }
    },
    {
      "cell_type": "code",
      "source": [
        "model1.save('model1.h5')\n",
        "model1.save('model2.h5')"
      ],
      "metadata": {
        "id": "D9sheFp0AZLI"
      },
      "execution_count": 57,
      "outputs": []
    },
    {
      "cell_type": "code",
      "source": [
        "savedModel=load_model('model1.h5')\n",
        "savedModel.summary()"
      ],
      "metadata": {
        "colab": {
          "base_uri": "https://localhost:8080/"
        },
        "id": "Rw4oA-stRyQq",
        "outputId": "d96122ab-f81f-47f2-fd59-3f85e2f05d38"
      },
      "execution_count": 58,
      "outputs": [
        {
          "output_type": "stream",
          "name": "stdout",
          "text": [
            "Model: \"sequential\"\n",
            "_________________________________________________________________\n",
            " Layer (type)                Output Shape              Param #   \n",
            "=================================================================\n",
            " dense (Dense)               (None, 4)                 20        \n",
            "                                                                 \n",
            " dense_1 (Dense)             (None, 100)               500       \n",
            "                                                                 \n",
            " dense_2 (Dense)             (None, 1)                 101       \n",
            "                                                                 \n",
            "=================================================================\n",
            "Total params: 621\n",
            "Trainable params: 621\n",
            "Non-trainable params: 0\n",
            "_________________________________________________________________\n"
          ]
        }
      ]
    },
    {
      "cell_type": "markdown",
      "source": [
        "Сохранение модели алгоритма опорных векторов (SVM)"
      ],
      "metadata": {
        "id": "F6V35gFOReHB"
      }
    },
    {
      "cell_type": "code",
      "source": [
        "with open('model_svm1.pkl','wb') as f:\n",
        "  pickle.dump(svm1, f)"
      ],
      "metadata": {
        "colab": {
          "base_uri": "https://localhost:8080/",
          "height": 183
        },
        "id": "oAUlKSiPSmpX",
        "outputId": "1dee2a61-df31-49ca-9fba-705dea19d456"
      },
      "execution_count": 70,
      "outputs": [
        {
          "output_type": "error",
          "ename": "TypeError",
          "evalue": "ignored",
          "traceback": [
            "\u001b[0;31m---------------------------------------------------------------------------\u001b[0m",
            "\u001b[0;31mTypeError\u001b[0m                                 Traceback (most recent call last)",
            "\u001b[0;32m<ipython-input-70-03ea38bad08b>\u001b[0m in \u001b[0;36m<module>\u001b[0;34m\u001b[0m\n\u001b[1;32m      1\u001b[0m \u001b[0;32mwith\u001b[0m \u001b[0mopen\u001b[0m\u001b[0;34m(\u001b[0m\u001b[0;34m'model_svm1.pkl'\u001b[0m\u001b[0;34m,\u001b[0m\u001b[0;34m'wb'\u001b[0m\u001b[0;34m)\u001b[0m \u001b[0;32mas\u001b[0m \u001b[0mf\u001b[0m\u001b[0;34m:\u001b[0m\u001b[0;34m\u001b[0m\u001b[0;34m\u001b[0m\u001b[0m\n\u001b[0;32m----> 2\u001b[0;31m   \u001b[0mpickle\u001b[0m\u001b[0;34m.\u001b[0m\u001b[0mdump\u001b[0m\u001b[0;34m(\u001b[0m\u001b[0msvm1\u001b[0m\u001b[0;34m,\u001b[0m \u001b[0mf\u001b[0m\u001b[0;34m)\u001b[0m\u001b[0;34m\u001b[0m\u001b[0;34m\u001b[0m\u001b[0m\n\u001b[0m",
            "\u001b[0;31mTypeError\u001b[0m: cannot serialize '_io.BufferedWriter' object"
          ]
        }
      ]
    },
    {
      "cell_type": "code",
      "source": [
        "pickled_model = pickle.load(open('model_svm1.pkl', 'rb'))\n",
        "pickled_model.predict(X)\n"
      ],
      "metadata": {
        "colab": {
          "base_uri": "https://localhost:8080/",
          "height": 183
        },
        "id": "34HFZrDPS7g_",
        "outputId": "d18695a2-85bf-43db-a0a6-daf894d69698"
      },
      "execution_count": 71,
      "outputs": [
        {
          "output_type": "error",
          "ename": "EOFError",
          "evalue": "ignored",
          "traceback": [
            "\u001b[0;31m---------------------------------------------------------------------------\u001b[0m",
            "\u001b[0;31mEOFError\u001b[0m                                  Traceback (most recent call last)",
            "\u001b[0;32m<ipython-input-71-19183f863f36>\u001b[0m in \u001b[0;36m<module>\u001b[0;34m\u001b[0m\n\u001b[0;32m----> 1\u001b[0;31m \u001b[0mpickled_model\u001b[0m \u001b[0;34m=\u001b[0m \u001b[0mpickle\u001b[0m\u001b[0;34m.\u001b[0m\u001b[0mload\u001b[0m\u001b[0;34m(\u001b[0m\u001b[0mopen\u001b[0m\u001b[0;34m(\u001b[0m\u001b[0;34m'model_svm1.pkl'\u001b[0m\u001b[0;34m,\u001b[0m \u001b[0;34m'rb'\u001b[0m\u001b[0;34m)\u001b[0m\u001b[0;34m)\u001b[0m\u001b[0;34m\u001b[0m\u001b[0;34m\u001b[0m\u001b[0m\n\u001b[0m\u001b[1;32m      2\u001b[0m \u001b[0mpickled_model\u001b[0m\u001b[0;34m.\u001b[0m\u001b[0mpredict\u001b[0m\u001b[0;34m(\u001b[0m\u001b[0mX\u001b[0m\u001b[0;34m)\u001b[0m\u001b[0;34m\u001b[0m\u001b[0;34m\u001b[0m\u001b[0m\n",
            "\u001b[0;31mEOFError\u001b[0m: Ran out of input"
          ]
        }
      ]
    },
    {
      "cell_type": "code",
      "source": [],
      "metadata": {
        "id": "w2BaM5BNTMTH"
      },
      "execution_count": null,
      "outputs": []
    }
  ]
}